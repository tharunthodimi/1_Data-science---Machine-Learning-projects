{
 "cells": [
  {
   "cell_type": "markdown",
   "metadata": {
    "id": "9_QMqUotCsor"
   },
   "source": [
    "## Import Required Libraries"
   ]
  },
  {
   "cell_type": "code",
   "execution_count": null,
   "metadata": {
    "id": "4a0sHHbVyMC3"
   },
   "outputs": [],
   "source": [
    "# Import Required Librarues\n",
    "import pandas as pd\n",
    "import numpy as np\n",
    "import seaborn as sns\n",
    "import matplotlib.pyplot as plt\n",
    "import sklearn\n",
    "import statsmodels as sm\n",
    "\n",
    "pd.set_option('max_columns',500)\n",
    "pd.set_option('max_rows',10000000)\n"
   ]
  },
  {
   "cell_type": "markdown",
   "metadata": {
    "id": "VgLW3dvDC-BZ"
   },
   "source": [
    "## Import the data"
   ]
  },
  {
   "cell_type": "code",
   "execution_count": null,
   "metadata": {
    "colab": {
     "base_uri": "https://localhost:8080/",
     "height": 415
    },
    "id": "YUS8PPewy31d",
    "outputId": "d97772fc-26ae-40e9-ab79-209c658f7c9a"
   },
   "outputs": [],
   "source": [
    "# Import the data in data variable\n",
    "data=pd.read_csv('sample30.csv')\n",
    "data.head(3)"
   ]
  },
  {
   "cell_type": "code",
   "execution_count": null,
   "metadata": {
    "colab": {
     "base_uri": "https://localhost:8080/"
    },
    "id": "ZUQoW8o18JT-",
    "outputId": "6f906723-e0db-47c9-aeb1-b35681c2e930"
   },
   "outputs": [],
   "source": [
    "# shape of the data\n",
    "data.shape"
   ]
  },
  {
   "cell_type": "code",
   "execution_count": null,
   "metadata": {
    "colab": {
     "base_uri": "https://localhost:8080/"
    },
    "id": "Z_7FlMt28PuW",
    "outputId": "a4b03675-69fb-448b-9379-ce1f7dd37137"
   },
   "outputs": [],
   "source": [
    "# Null value check on each column\n",
    "data.isnull().sum()"
   ]
  },
  {
   "cell_type": "code",
   "execution_count": null,
   "metadata": {
    "colab": {
     "base_uri": "https://localhost:8080/"
    },
    "id": "iRXmpuK079eG",
    "outputId": "9eae2a84-a17b-4a74-c61b-0903c1102cde"
   },
   "outputs": [],
   "source": [
    "((data.isnull().sum()/data.shape[0])*100).round(2)"
   ]
  },
  {
   "cell_type": "markdown",
   "metadata": {
    "id": "HhYeezbZcrGE"
   },
   "source": [
    "## Insights:\n",
    "- We have three features where null vlaue percent is more than 40 percent lets drop them\n"
   ]
  },
  {
   "cell_type": "code",
   "execution_count": null,
   "metadata": {
    "id": "KM5jxgvfc5xm"
   },
   "outputs": [],
   "source": [
    "data.drop(['reviews_didPurchase','reviews_userCity','reviews_userProvince'],axis=1,inplace=True)"
   ]
  },
  {
   "cell_type": "code",
   "execution_count": null,
   "metadata": {
    "colab": {
     "base_uri": "https://localhost:8080/"
    },
    "id": "ShTIki18ckde",
    "outputId": "66acac74-f3a2-4b7d-f6ce-cd3a551409b9"
   },
   "outputs": [],
   "source": [
    "((data.isnull().sum()/data.shape[0])*100).round(2)"
   ]
  },
  {
   "cell_type": "markdown",
   "metadata": {},
   "source": [
    "## Insights:\n",
    "- Except one column all the columns wherever null vlaues are present, percentage of null vaues is less than 1 percentage"
   ]
  },
  {
   "cell_type": "code",
   "execution_count": null,
   "metadata": {},
   "outputs": [],
   "source": [
    "data.head(2)"
   ]
  },
  {
   "cell_type": "code",
   "execution_count": null,
   "metadata": {},
   "outputs": [],
   "source": [
    "data.shape"
   ]
  },
  {
   "cell_type": "markdown",
   "metadata": {},
   "source": [
    "## Replace nan values"
   ]
  },
  {
   "cell_type": "code",
   "execution_count": null,
   "metadata": {},
   "outputs": [],
   "source": [
    "data['reviews_username'].replace(np.NaN,data['reviews_username'].value_counts().index[0],inplace=True)"
   ]
  },
  {
   "cell_type": "code",
   "execution_count": null,
   "metadata": {},
   "outputs": [],
   "source": [
    "data['manufacturer'].replace(np.NaN,data['manufacturer'].value_counts().index[0],inplace=True)\n",
    "data['reviews_date'].replace(np.NaN,data['reviews_date'].value_counts().index[0],inplace=True)\n",
    "data['reviews_title'].replace(np.NaN,data['reviews_title'].value_counts().index[0],inplace=True)"
   ]
  },
  {
   "cell_type": "code",
   "execution_count": null,
   "metadata": {},
   "outputs": [],
   "source": [
    "## Categorical null values are replaced with maximum occuring values over that column/feature"
   ]
  },
  {
   "cell_type": "code",
   "execution_count": null,
   "metadata": {},
   "outputs": [],
   "source": [
    "data.head()"
   ]
  },
  {
   "cell_type": "code",
   "execution_count": null,
   "metadata": {},
   "outputs": [],
   "source": [
    "data['reviews_doRecommend'].replace(np.NaN,data['reviews_doRecommend'].value_counts().index[0],inplace=True)"
   ]
  },
  {
   "cell_type": "code",
   "execution_count": null,
   "metadata": {},
   "outputs": [],
   "source": [
    "data['reviews_doRecommend'].value_counts()"
   ]
  },
  {
   "cell_type": "code",
   "execution_count": null,
   "metadata": {},
   "outputs": [],
   "source": [
    "((data.isnull().sum()/data.shape[0])*100).round(2)"
   ]
  },
  {
   "cell_type": "code",
   "execution_count": null,
   "metadata": {
    "colab": {
     "base_uri": "https://localhost:8080/"
    },
    "id": "FLBBIoYEdksp",
    "outputId": "ab22f972-3556-4366-8fb3-c1915ef7beba"
   },
   "outputs": [],
   "source": [
    "data.isnull().sum()/data.shape[0]"
   ]
  },
  {
   "cell_type": "code",
   "execution_count": null,
   "metadata": {
    "colab": {
     "base_uri": "https://localhost:8080/",
     "height": 179
    },
    "id": "M3TxIL3Rdkf-",
    "outputId": "f77a8eb9-90c0-44a0-c89e-1826338b12c6"
   },
   "outputs": [],
   "source": [
    "data.head(2)"
   ]
  },
  {
   "cell_type": "code",
   "execution_count": null,
   "metadata": {
    "colab": {
     "base_uri": "https://localhost:8080/"
    },
    "id": "8AKqZKrg1oyQ",
    "outputId": "337086bd-60fd-46dd-96b5-be2951abcdf3"
   },
   "outputs": [],
   "source": [
    "data.shape"
   ]
  },
  {
   "cell_type": "code",
   "execution_count": null,
   "metadata": {},
   "outputs": [],
   "source": [
    "data.info()"
   ]
  },
  {
   "cell_type": "code",
   "execution_count": null,
   "metadata": {},
   "outputs": [],
   "source": [
    "data[data['user_sentiment'].isnull()]"
   ]
  },
  {
   "cell_type": "code",
   "execution_count": null,
   "metadata": {
    "id": "DfPQCFzycj24"
   },
   "outputs": [],
   "source": [
    "data.dropna(how='any',axis=0,inplace=True)"
   ]
  },
  {
   "cell_type": "code",
   "execution_count": null,
   "metadata": {
    "id": "FB5gknr7TQd_"
   },
   "outputs": [],
   "source": [
    "data.reset_index(drop=True,inplace=True)"
   ]
  },
  {
   "cell_type": "code",
   "execution_count": null,
   "metadata": {},
   "outputs": [],
   "source": [
    "data.info()"
   ]
  },
  {
   "cell_type": "markdown",
   "metadata": {},
   "source": [
    "# id,brand,categories,manufacturer,reviewdate can be eliminated"
   ]
  },
  {
   "cell_type": "markdown",
   "metadata": {
    "id": "3yAfPAvT2o3Y"
   },
   "source": [
    "## Lets understand each Feature"
   ]
  },
  {
   "cell_type": "code",
   "execution_count": null,
   "metadata": {
    "colab": {
     "base_uri": "https://localhost:8080/"
    },
    "id": "4O9_yDsN2vKp",
    "outputId": "35e7d230-aa8d-4172-c195-7ce7a2a16de7"
   },
   "outputs": [],
   "source": [
    "len(data['id'].unique())"
   ]
  },
  {
   "cell_type": "code",
   "execution_count": null,
   "metadata": {
    "colab": {
     "base_uri": "https://localhost:8080/"
    },
    "id": "7DTlsm5h2u86",
    "outputId": "fb219924-38dc-4a88-802a-9d20b59fb55d"
   },
   "outputs": [],
   "source": [
    "len(data['brand'].unique())"
   ]
  },
  {
   "cell_type": "code",
   "execution_count": null,
   "metadata": {
    "colab": {
     "base_uri": "https://localhost:8080/"
    },
    "id": "zZ14xc1a49Ha",
    "outputId": "325ab4bb-b5eb-4da1-da41-44070f233c6d"
   },
   "outputs": [],
   "source": [
    "for i in data.columns:\n",
    "  print(\"Unique of %s is %d\"%(i,len(data[i].unique())))"
   ]
  },
  {
   "cell_type": "code",
   "execution_count": null,
   "metadata": {
    "colab": {
     "base_uri": "https://localhost:8080/",
     "height": 696
    },
    "id": "NgWAOMAi4ywp",
    "outputId": "e00e3e13-a10d-4cde-ddc3-d115ca305cd4"
   },
   "outputs": [],
   "source": [
    "data.head(1)"
   ]
  },
  {
   "cell_type": "code",
   "execution_count": null,
   "metadata": {
    "colab": {
     "base_uri": "https://localhost:8080/",
     "height": 281
    },
    "id": "7hRg6xLy8sb5",
    "outputId": "fbee532b-98c2-4964-a05c-8fcd8abd8d36"
   },
   "outputs": [],
   "source": [
    "# We use normalizeto visuaise the data in percentage fomrat\n",
    "data['reviews_doRecommend'].value_counts(normalize=True).plot(kind='bar')\n",
    "plt.show()"
   ]
  },
  {
   "cell_type": "code",
   "execution_count": null,
   "metadata": {
    "colab": {
     "base_uri": "https://localhost:8080/",
     "height": 262
    },
    "id": "-4bCyjFf4ysT",
    "outputId": "ac65dd5a-976f-4280-f2cc-b3a8f66277a5"
   },
   "outputs": [],
   "source": [
    "data['reviews_rating'].value_counts(normalize=True).plot(kind='bar')\n",
    "plt.show()"
   ]
  },
  {
   "cell_type": "code",
   "execution_count": null,
   "metadata": {
    "colab": {
     "base_uri": "https://localhost:8080/",
     "height": 300
    },
    "id": "fQXHt6h84yqS",
    "outputId": "f6d41aef-0eff-4528-c46b-7c07012c54b4"
   },
   "outputs": [],
   "source": [
    "data['user_sentiment'].value_counts().plot(kind='bar')\n",
    "plt.show()"
   ]
  },
  {
   "cell_type": "code",
   "execution_count": null,
   "metadata": {
    "colab": {
     "base_uri": "https://localhost:8080/"
    },
    "id": "k7zWUEEbBjDB",
    "outputId": "ab4247e0-1075-418e-a1cd-2c7ac58d9b09"
   },
   "outputs": [],
   "source": [
    "data['user_sentiment'].value_counts()"
   ]
  },
  {
   "cell_type": "code",
   "execution_count": null,
   "metadata": {
    "colab": {
     "base_uri": "https://localhost:8080/",
     "height": 300
    },
    "id": "Klbzktb34ykr",
    "outputId": "d223be8e-ba8e-46aa-e0b4-3199a8260c95"
   },
   "outputs": [],
   "source": [
    "data['user_sentiment'].value_counts(normalize=True).plot(kind='bar')\n",
    "plt.show()"
   ]
  },
  {
   "cell_type": "markdown",
   "metadata": {
    "id": "lct3WU1qRns9"
   },
   "source": [
    "## Lets create the data suitable for sentiment analysis so we can reviews_text, reviews_title and user_sentiment"
   ]
  },
  {
   "cell_type": "code",
   "execution_count": null,
   "metadata": {
    "colab": {
     "base_uri": "https://localhost:8080/",
     "height": 372
    },
    "id": "-HgM1uIC2uwS",
    "outputId": "196d323d-fcfe-42c4-ad02-bdf4deeb48ce"
   },
   "outputs": [],
   "source": [
    "data2=data[:]\n",
    "data2.head()"
   ]
  },
  {
   "cell_type": "code",
   "execution_count": null,
   "metadata": {
    "colab": {
     "base_uri": "https://localhost:8080/",
     "height": 564
    },
    "id": "xvlXcdwE2twf",
    "outputId": "2000bb5c-fde9-4cac-8523-90a56d3b89bf"
   },
   "outputs": [],
   "source": [
    "data2['reviews']=data2['reviews_title']+' '+data2['reviews_text']\n",
    "data2.head()"
   ]
  },
  {
   "cell_type": "code",
   "execution_count": null,
   "metadata": {
    "colab": {
     "base_uri": "https://localhost:8080/",
     "height": 1000
    },
    "id": "Z6prrtoB1ogh",
    "outputId": "16a441f1-19a3-4e6d-9694-a661fd92d2ef",
    "scrolled": true
   },
   "outputs": [],
   "source": [
    "data2['usersentiment']=data2['user_sentiment'].replace({'Positive':1,'Negative':0})\n",
    "data2.head(3)"
   ]
  },
  {
   "cell_type": "code",
   "execution_count": null,
   "metadata": {},
   "outputs": [],
   "source": [
    "data2.info()"
   ]
  },
  {
   "cell_type": "code",
   "execution_count": null,
   "metadata": {
    "colab": {
     "base_uri": "https://localhost:8080/",
     "height": 204
    },
    "id": "beWPZ9F71ofb",
    "outputId": "4a125cc3-bd67-4a17-cac9-416d046380fb"
   },
   "outputs": [],
   "source": [
    "data3=data2[:]#[['reviews','usersentiment']]\n",
    "data3.head()"
   ]
  },
  {
   "cell_type": "code",
   "execution_count": null,
   "metadata": {
    "colab": {
     "base_uri": "https://localhost:8080/"
    },
    "id": "rHpWGwxP1oZu",
    "outputId": "aa590cf5-acac-4e09-8c98-30a899832443"
   },
   "outputs": [],
   "source": [
    "data3['usersentiment'].value_counts(normalize=True)"
   ]
  },
  {
   "cell_type": "markdown",
   "metadata": {
    "id": "ZDaR0YAtcHy6"
   },
   "source": [
    "## Data cleaning:\n",
    "- punctuation removal\n",
    "- stopword removal\n",
    "- common wrd\n",
    "- stemming and lemmatisation\n",
    "- regex can be used to cover majroity of the things\n",
    "- Stemming and lemmatisation\n",
    "\n",
    "## Convert text to tokens\n",
    "- bow\n",
    "- tf-idf\n",
    "- word2vec\n",
    "- glove embeddings\n",
    "- count vectoriser"
   ]
  },
  {
   "cell_type": "code",
   "execution_count": null,
   "metadata": {
    "colab": {
     "base_uri": "https://localhost:8080/"
    },
    "id": "EK2YLE0W1oYk",
    "outputId": "15d62988-1674-48ec-8793-e3cccba80547"
   },
   "outputs": [],
   "source": [
    "pd.set_option('max_colwidth',200)\n",
    "data3['reviews'].head()"
   ]
  },
  {
   "cell_type": "markdown",
   "metadata": {
    "id": "ginnGAn8ewKf"
   },
   "source": [
    "## Data Cleaning"
   ]
  },
  {
   "cell_type": "raw",
   "metadata": {
    "colab": {
     "base_uri": "https://localhost:8080/"
    },
    "id": "WTLxLUEmitvw",
    "outputId": "2edba6bb-3dfd-4554-de2e-22d7e773a047"
   },
   "source": [
    "!pip install nltk"
   ]
  },
  {
   "cell_type": "code",
   "execution_count": null,
   "metadata": {
    "colab": {
     "base_uri": "https://localhost:8080/"
    },
    "id": "IzBOC96FdkUE",
    "outputId": "3c22cdd4-6457-4279-fd5c-87684b45b9bc"
   },
   "outputs": [],
   "source": [
    "import nltk\n",
    "from nltk.stem import PorterStemmer\n",
    "from nltk.stem import WordNetLemmatizer\n",
    "from nltk.corpus import stopwords\n",
    "nltk.download('stopwords')\n",
    "nltk.download('wordnet')"
   ]
  },
  {
   "cell_type": "code",
   "execution_count": null,
   "metadata": {
    "id": "6jGdJNyC1noe"
   },
   "outputs": [],
   "source": [
    "import re\n",
    "\n",
    "ps=PorterStemmer()\n",
    "lm=WordNetLemmatizer()\n",
    "\n",
    "from sklearn.feature_extraction.text import CountVectorizer,TfidfVectorizer\n",
    "from sklearn.metrics import accuracy_score\n",
    "from sklearn.metrics import confusion_matrix,classification_report\n",
    "\n",
    "cv=CountVectorizer()\n",
    "tf=TfidfVectorizer(max_features=5000,ngram_range=(1,3))"
   ]
  },
  {
   "cell_type": "markdown",
   "metadata": {},
   "source": [
    "## Remove the reviews having length less than 250 words"
   ]
  },
  {
   "cell_type": "code",
   "execution_count": null,
   "metadata": {},
   "outputs": [],
   "source": [
    "data.head()"
   ]
  },
  {
   "cell_type": "code",
   "execution_count": null,
   "metadata": {
    "id": "zOCvLTO9djsB"
   },
   "outputs": [],
   "source": [
    "corpus=[] # empty corpus\n",
    "\n",
    "# Clean the data as shown below\n",
    "for sent in data3['reviews']:\n",
    "    \n",
    "    # 1. Lower the sentences\n",
    "    sent=sent.lower()\n",
    "    \n",
    "    #2.regex statement\n",
    "    sent=re.sub('[^a-zA-Z0-9]',' ',sent)\n",
    "    \n",
    "    #3. remove extra spaces in the text\n",
    "    sent=sent.split()\n",
    "    sent=' '.join(sent)\n",
    "    \n",
    "    #4. Split the data\n",
    "    sent=sent.split()\n",
    "    \n",
    "    #5.use regex to remove unnecessary charatcers in the data\n",
    "    sent=[lm.lemmatize(word) for word in sent if word not in set(stopwords.words('english'))]\n",
    "    \n",
    "    #6. Append the data into corpus and now the sentence is traeted with stopwords and lemmatization\n",
    "    corpus.append(' '.join(sent))"
   ]
  },
  {
   "cell_type": "code",
   "execution_count": null,
   "metadata": {
    "colab": {
     "base_uri": "https://localhost:8080/"
    },
    "id": "0O7qCX6dcjDg",
    "outputId": "c2e6f07e-ab24-401a-ba09-18ca69b86d4d"
   },
   "outputs": [],
   "source": [
    "corpus[:10]"
   ]
  },
  {
   "cell_type": "code",
   "execution_count": null,
   "metadata": {
    "colab": {
     "base_uri": "https://localhost:8080/",
     "height": 395
    },
    "id": "1mR5KAAmlHs3",
    "outputId": "6b05ee37-acc8-40e4-9638-5e30ec818cb2"
   },
   "outputs": [],
   "source": [
    "data3['reviews_cleaned']=corpus\n",
    "data3.head()"
   ]
  },
  {
   "cell_type": "code",
   "execution_count": null,
   "metadata": {},
   "outputs": [],
   "source": [
    "data3.info()"
   ]
  },
  {
   "cell_type": "code",
   "execution_count": null,
   "metadata": {},
   "outputs": [],
   "source": [
    "l=[]\n",
    "for i in data3['reviews_cleaned']:\n",
    "    l.append((len(i.split())))"
   ]
  },
  {
   "cell_type": "code",
   "execution_count": null,
   "metadata": {},
   "outputs": [],
   "source": [
    "np.quantile(l,[0,0.1,0.2,0.3,0.4,0.5,0.6,0.7,0.8,0.9,0.95,0.99,0.995,0.997,0.999,1])"
   ]
  },
  {
   "cell_type": "code",
   "execution_count": null,
   "metadata": {},
   "outputs": [],
   "source": [
    "data3.info()"
   ]
  },
  {
   "cell_type": "code",
   "execution_count": null,
   "metadata": {},
   "outputs": [],
   "source": [
    "data3.index"
   ]
  },
  {
   "cell_type": "code",
   "execution_count": null,
   "metadata": {},
   "outputs": [],
   "source": [
    "for i in data3['reviews_cleaned']:\n",
    "    print(i)\n",
    "    print('---')"
   ]
  },
  {
   "cell_type": "code",
   "execution_count": null,
   "metadata": {},
   "outputs": [],
   "source": [
    "counter=len(data3['reviews_cleaned'])\n",
    "counter"
   ]
  },
  {
   "cell_type": "code",
   "execution_count": null,
   "metadata": {},
   "outputs": [],
   "source": [
    "for i,j in zip(range(counter+1),data3['reviews_cleaned']):\n",
    "    print(i)\n",
    "    print(j)\n",
    "    print(data3['reviews_cleaned'][i])"
   ]
  },
  {
   "cell_type": "code",
   "execution_count": null,
   "metadata": {},
   "outputs": [],
   "source": [
    "indexes=[]"
   ]
  },
  {
   "cell_type": "code",
   "execution_count": null,
   "metadata": {},
   "outputs": [],
   "source": [
    "# Remove rows where the reviews length is greater than 150 words\n",
    "for i,j in zip(range(counter+1),data3['reviews_cleaned']):\n",
    "    if(len(j.split())>150):  #comments greater than 150 words\n",
    "        if(j == (data3['reviews_cleaned'][i])):\n",
    "            indexes.append(i)             "
   ]
  },
  {
   "cell_type": "code",
   "execution_count": null,
   "metadata": {},
   "outputs": [],
   "source": [
    "print(indexes)"
   ]
  },
  {
   "cell_type": "code",
   "execution_count": null,
   "metadata": {},
   "outputs": [],
   "source": [
    "data3.info()"
   ]
  },
  {
   "cell_type": "code",
   "execution_count": null,
   "metadata": {},
   "outputs": [],
   "source": [
    "data3.drop(indexes,inplace=True)"
   ]
  },
  {
   "cell_type": "code",
   "execution_count": null,
   "metadata": {},
   "outputs": [],
   "source": [
    "data3.reset_index(inplace=True)"
   ]
  },
  {
   "cell_type": "code",
   "execution_count": null,
   "metadata": {},
   "outputs": [],
   "source": [
    "data3.info()"
   ]
  },
  {
   "cell_type": "markdown",
   "metadata": {},
   "source": [
    "## We hvae removed reviews where word count i sgreater than 150"
   ]
  },
  {
   "cell_type": "code",
   "execution_count": null,
   "metadata": {
    "colab": {
     "base_uri": "https://localhost:8080/"
    },
    "id": "vbp_3U0rgGrm",
    "outputId": "7463d43d-80d3-4e1a-c704-5070d1f68896"
   },
   "outputs": [],
   "source": [
    "x=data3['reviews_cleaned']\n",
    "x.head()"
   ]
  },
  {
   "cell_type": "code",
   "execution_count": null,
   "metadata": {
    "colab": {
     "base_uri": "https://localhost:8080/"
    },
    "id": "_rdUrbYqgGDD",
    "outputId": "f4c7ba0b-d686-46f6-9077-7d33991bcb96"
   },
   "outputs": [],
   "source": [
    "y=data3['usersentiment']\n",
    "y.head()"
   ]
  },
  {
   "cell_type": "markdown",
   "metadata": {},
   "source": [
    "## Remove the reviews having length less than 250 words"
   ]
  },
  {
   "cell_type": "code",
   "execution_count": null,
   "metadata": {},
   "outputs": [],
   "source": [
    "y.shape"
   ]
  },
  {
   "cell_type": "code",
   "execution_count": null,
   "metadata": {},
   "outputs": [],
   "source": [
    "x.shape"
   ]
  },
  {
   "cell_type": "code",
   "execution_count": null,
   "metadata": {
    "colab": {
     "base_uri": "https://localhost:8080/"
    },
    "id": "-x0YWAixlqOu",
    "outputId": "b0aedee0-b3ed-4f42-9631-62e670c70979"
   },
   "outputs": [],
   "source": [
    "# TF-IDF: term frequency inverse document frequency\n",
    "x=tf.fit_transform(x).toarray()\n",
    "x"
   ]
  },
  {
   "cell_type": "code",
   "execution_count": null,
   "metadata": {
    "id": "0QF6xp0flvan"
   },
   "outputs": [],
   "source": [
    "from sklearn.model_selection import train_test_split"
   ]
  },
  {
   "cell_type": "code",
   "execution_count": null,
   "metadata": {
    "id": "H8C2QpEYl2os"
   },
   "outputs": [],
   "source": [
    "x_train,x_test,y_train,y_test=train_test_split(x,y,test_size=0.25,random_state=42)"
   ]
  },
  {
   "cell_type": "raw",
   "metadata": {
    "id": "OIXKzxEkmCjl"
   },
   "source": [
    "from sklearn.naive_bayes import MultinomialNB"
   ]
  },
  {
   "cell_type": "raw",
   "metadata": {
    "id": "NIbzylnymLgH"
   },
   "source": [
    "nbc=MultinomialNB()"
   ]
  },
  {
   "cell_type": "raw",
   "metadata": {
    "colab": {
     "base_uri": "https://localhost:8080/"
    },
    "id": "V-mBWjiqmOj8",
    "outputId": "058e1cf5-9fe9-4cca-9ab9-37c3af78819d"
   },
   "source": [
    "nbc.fit(x_train,y_train)"
   ]
  },
  {
   "cell_type": "raw",
   "metadata": {
    "colab": {
     "base_uri": "https://localhost:8080/"
    },
    "id": "80LhXvNsmYdP",
    "outputId": "bedd2b64-5cd3-4a54-f814-3f7226ce2fbd"
   },
   "source": [
    "y_pred=nbc.predict(x_test)\n",
    "y_pred"
   ]
  },
  {
   "cell_type": "raw",
   "metadata": {
    "colab": {
     "base_uri": "https://localhost:8080/"
    },
    "id": "ser9PaT3meOC",
    "outputId": "85336296-9cd6-4f7f-ae60-896e536f6050"
   },
   "source": [
    "print(accuracy_score(y_test, y_pred))"
   ]
  },
  {
   "cell_type": "raw",
   "metadata": {
    "colab": {
     "base_uri": "https://localhost:8080/"
    },
    "id": "BPdAkdgVmn5H",
    "outputId": "d8e13ed8-fe57-4884-fa45-412870c72a20"
   },
   "source": [
    "print(confusion_matrix(y_test,y_pred))\n"
   ]
  },
  {
   "cell_type": "raw",
   "metadata": {
    "colab": {
     "base_uri": "https://localhost:8080/"
    },
    "id": "v4W2UrbJmqvq",
    "outputId": "85c618da-ee82-4c28-c692-d8b4c8ccb89d"
   },
   "source": [
    "print(classification_report(y_test, y_pred))"
   ]
  },
  {
   "cell_type": "raw",
   "metadata": {},
   "source": [
    "tf.transform([\"irritation husband bought gel u gel caused irritation felt like burning skin recommend gel\"]).toarray()"
   ]
  },
  {
   "cell_type": "raw",
   "metadata": {},
   "source": [
    "nbc.predict(tf.transform([\"very bad experience boyfriend bought spice thing bedroom highly disappointed product bought one absolutely love ky mine thought would similar affect absolutely nothing buy\"]).toarray())"
   ]
  },
  {
   "cell_type": "markdown",
   "metadata": {},
   "source": [
    "## From initial analysis we know that data is imbalanced ets treat them using calss imbalance Techniques"
   ]
  },
  {
   "cell_type": "code",
   "execution_count": null,
   "metadata": {},
   "outputs": [],
   "source": [
    "print(x_train.shape)\n",
    "print(x_test.shape)\n",
    "print(y_train.shape)\n",
    "print(y_test.shape)"
   ]
  },
  {
   "cell_type": "code",
   "execution_count": null,
   "metadata": {},
   "outputs": [],
   "source": [
    "y_train.value_counts()"
   ]
  },
  {
   "cell_type": "code",
   "execution_count": null,
   "metadata": {},
   "outputs": [],
   "source": [
    "y_test.value_counts()"
   ]
  },
  {
   "cell_type": "code",
   "execution_count": null,
   "metadata": {},
   "outputs": [],
   "source": [
    "## Its a clear class imbalance "
   ]
  },
  {
   "cell_type": "code",
   "execution_count": null,
   "metadata": {
    "colab": {
     "base_uri": "https://localhost:8080/"
    },
    "id": "947nhHl9muju",
    "outputId": "c78ab896-befe-40a7-e838-698c125d9485"
   },
   "outputs": [],
   "source": [
    "import imblearn\n",
    "from imblearn.combine import SMOTETomek"
   ]
  },
  {
   "cell_type": "code",
   "execution_count": null,
   "metadata": {},
   "outputs": [],
   "source": [
    "import pandas as pd"
   ]
  },
  {
   "cell_type": "code",
   "execution_count": null,
   "metadata": {},
   "outputs": [],
   "source": [
    "pd.set_option('max_colwidth',200)"
   ]
  },
  {
   "cell_type": "code",
   "execution_count": null,
   "metadata": {},
   "outputs": [],
   "source": [
    "x_train"
   ]
  },
  {
   "cell_type": "code",
   "execution_count": null,
   "metadata": {
    "id": "QsC5CYje5MVj"
   },
   "outputs": [],
   "source": [
    "from imblearn.over_sampling import SMOTE\n",
    "smt = SMOTE(0.5,random_state=42)\n",
    "x_train_SMOTE, y_train_SMOTE = smt.fit_sample(x_train, y_train)"
   ]
  },
  {
   "cell_type": "code",
   "execution_count": null,
   "metadata": {},
   "outputs": [],
   "source": [
    "print(x_train_SMOTE.shape)\n",
    "print(y_train_SMOTE.shape)"
   ]
  },
  {
   "cell_type": "code",
   "execution_count": null,
   "metadata": {},
   "outputs": [],
   "source": [
    "y_train.value_counts()"
   ]
  },
  {
   "cell_type": "code",
   "execution_count": null,
   "metadata": {},
   "outputs": [],
   "source": [
    "y_train_SMOTE.value_counts()"
   ]
  },
  {
   "cell_type": "markdown",
   "metadata": {},
   "source": [
    "## Naivebayes after smote analysis"
   ]
  },
  {
   "cell_type": "code",
   "execution_count": null,
   "metadata": {
    "id": "OIXKzxEkmCjl"
   },
   "outputs": [],
   "source": [
    "from sklearn.naive_bayes import BernoulliNB,MultinomialNB"
   ]
  },
  {
   "cell_type": "raw",
   "metadata": {
    "id": "NIbzylnymLgH"
   },
   "source": [
    "nbc=MultinomialNB()"
   ]
  },
  {
   "cell_type": "code",
   "execution_count": null,
   "metadata": {},
   "outputs": [],
   "source": [
    "nbc=BernoulliNB()"
   ]
  },
  {
   "cell_type": "code",
   "execution_count": null,
   "metadata": {
    "colab": {
     "base_uri": "https://localhost:8080/"
    },
    "id": "V-mBWjiqmOj8",
    "outputId": "058e1cf5-9fe9-4cca-9ab9-37c3af78819d"
   },
   "outputs": [],
   "source": [
    "nbc.fit(x_train_SMOTE,y_train_SMOTE)"
   ]
  },
  {
   "cell_type": "code",
   "execution_count": null,
   "metadata": {
    "colab": {
     "base_uri": "https://localhost:8080/"
    },
    "id": "80LhXvNsmYdP",
    "outputId": "bedd2b64-5cd3-4a54-f814-3f7226ce2fbd"
   },
   "outputs": [],
   "source": [
    "y_pred=nbc.predict(x_test)\n",
    "y_pred"
   ]
  },
  {
   "cell_type": "code",
   "execution_count": null,
   "metadata": {
    "colab": {
     "base_uri": "https://localhost:8080/"
    },
    "id": "ser9PaT3meOC",
    "outputId": "85336296-9cd6-4f7f-ae60-896e536f6050"
   },
   "outputs": [],
   "source": [
    "print(accuracy_score(y_test, y_pred))"
   ]
  },
  {
   "cell_type": "code",
   "execution_count": null,
   "metadata": {
    "colab": {
     "base_uri": "https://localhost:8080/"
    },
    "id": "BPdAkdgVmn5H",
    "outputId": "d8e13ed8-fe57-4884-fa45-412870c72a20"
   },
   "outputs": [],
   "source": [
    "print(confusion_matrix(y_test,y_pred))\n"
   ]
  },
  {
   "cell_type": "code",
   "execution_count": null,
   "metadata": {
    "colab": {
     "base_uri": "https://localhost:8080/"
    },
    "id": "v4W2UrbJmqvq",
    "outputId": "85c618da-ee82-4c28-c692-d8b4c8ccb89d"
   },
   "outputs": [],
   "source": [
    "print(classification_report(y_test, y_pred))"
   ]
  },
  {
   "cell_type": "code",
   "execution_count": null,
   "metadata": {},
   "outputs": [],
   "source": [
    "nbc=MultinomialNB()"
   ]
  },
  {
   "cell_type": "code",
   "execution_count": null,
   "metadata": {
    "colab": {
     "base_uri": "https://localhost:8080/"
    },
    "id": "V-mBWjiqmOj8",
    "outputId": "058e1cf5-9fe9-4cca-9ab9-37c3af78819d"
   },
   "outputs": [],
   "source": [
    "nbc.fit(x_train_SMOTE,y_train_SMOTE)"
   ]
  },
  {
   "cell_type": "code",
   "execution_count": null,
   "metadata": {
    "colab": {
     "base_uri": "https://localhost:8080/"
    },
    "id": "80LhXvNsmYdP",
    "outputId": "bedd2b64-5cd3-4a54-f814-3f7226ce2fbd"
   },
   "outputs": [],
   "source": [
    "y_pred=nbc.predict(x_test)\n",
    "y_pred"
   ]
  },
  {
   "cell_type": "code",
   "execution_count": null,
   "metadata": {
    "colab": {
     "base_uri": "https://localhost:8080/"
    },
    "id": "ser9PaT3meOC",
    "outputId": "85336296-9cd6-4f7f-ae60-896e536f6050"
   },
   "outputs": [],
   "source": [
    "print(accuracy_score(y_test, y_pred))"
   ]
  },
  {
   "cell_type": "code",
   "execution_count": null,
   "metadata": {
    "colab": {
     "base_uri": "https://localhost:8080/"
    },
    "id": "BPdAkdgVmn5H",
    "outputId": "d8e13ed8-fe57-4884-fa45-412870c72a20"
   },
   "outputs": [],
   "source": [
    "print(confusion_matrix(y_test,y_pred))\n"
   ]
  },
  {
   "cell_type": "code",
   "execution_count": null,
   "metadata": {
    "colab": {
     "base_uri": "https://localhost:8080/"
    },
    "id": "v4W2UrbJmqvq",
    "outputId": "85c618da-ee82-4c28-c692-d8b4c8ccb89d"
   },
   "outputs": [],
   "source": [
    "print(classification_report(y_test, y_pred))"
   ]
  },
  {
   "cell_type": "code",
   "execution_count": null,
   "metadata": {},
   "outputs": [],
   "source": []
  },
  {
   "cell_type": "code",
   "execution_count": null,
   "metadata": {},
   "outputs": [],
   "source": []
  },
  {
   "cell_type": "markdown",
   "metadata": {},
   "source": [
    "## Logistic regression"
   ]
  },
  {
   "cell_type": "code",
   "execution_count": null,
   "metadata": {},
   "outputs": [],
   "source": [
    "from sklearn.linear_model import LogisticRegression\n",
    "lr=LogisticRegression()"
   ]
  },
  {
   "cell_type": "code",
   "execution_count": null,
   "metadata": {},
   "outputs": [],
   "source": [
    "lr.fit(x_train_SMOTE,y_train_SMOTE)"
   ]
  },
  {
   "cell_type": "code",
   "execution_count": null,
   "metadata": {},
   "outputs": [],
   "source": [
    "y_pred=lr.predict(x_test)\n",
    "y_pred"
   ]
  },
  {
   "cell_type": "code",
   "execution_count": null,
   "metadata": {
    "colab": {
     "base_uri": "https://localhost:8080/"
    },
    "id": "ser9PaT3meOC",
    "outputId": "85336296-9cd6-4f7f-ae60-896e536f6050"
   },
   "outputs": [],
   "source": [
    "print(accuracy_score(y_test, y_pred))"
   ]
  },
  {
   "cell_type": "code",
   "execution_count": null,
   "metadata": {
    "colab": {
     "base_uri": "https://localhost:8080/"
    },
    "id": "BPdAkdgVmn5H",
    "outputId": "d8e13ed8-fe57-4884-fa45-412870c72a20"
   },
   "outputs": [],
   "source": [
    "print(confusion_matrix(y_test,y_pred))\n"
   ]
  },
  {
   "cell_type": "code",
   "execution_count": null,
   "metadata": {
    "colab": {
     "base_uri": "https://localhost:8080/"
    },
    "id": "v4W2UrbJmqvq",
    "outputId": "85c618da-ee82-4c28-c692-d8b4c8ccb89d"
   },
   "outputs": [],
   "source": [
    "print(classification_report(y_test, y_pred))"
   ]
  },
  {
   "cell_type": "markdown",
   "metadata": {},
   "source": [
    "## random Forest"
   ]
  },
  {
   "cell_type": "code",
   "execution_count": null,
   "metadata": {},
   "outputs": [],
   "source": [
    "from sklearn.ensemble import RandomForestClassifier\n",
    "from sklearn.model_selection import GridSearchCV"
   ]
  },
  {
   "cell_type": "code",
   "execution_count": null,
   "metadata": {},
   "outputs": [],
   "source": [
    "rc=RandomForestClassifier(random_state=42,n_jobs=-1)"
   ]
  },
  {
   "cell_type": "raw",
   "metadata": {},
   "source": [
    "rc.fit(x_train_SMOTE,y_train_SMOTE)"
   ]
  },
  {
   "cell_type": "code",
   "execution_count": null,
   "metadata": {},
   "outputs": [],
   "source": [
    "# Create the parameter grid based on the results of random search \n",
    "params = {\n",
    "    'max_depth': [1, 2, 5, 10, 20],\n",
    "    'min_samples_leaf': [5, 10, 20, 50, 100],\n",
    "    'max_features': [2,3,4],\n",
    "    'n_estimators': [10, 30, 50, 100, 200]\n",
    "}"
   ]
  },
  {
   "cell_type": "code",
   "execution_count": null,
   "metadata": {},
   "outputs": [],
   "source": [
    "# Instantiate the grid search model\n",
    "grid_search = GridSearchCV(estimator=rc, param_grid=params, \n",
    "                          cv=4, n_jobs=-1, verbose=1, scoring = \"accuracy\")"
   ]
  },
  {
   "cell_type": "code",
   "execution_count": null,
   "metadata": {},
   "outputs": [],
   "source": [
    "%%time\n",
    "grid_search.fit(x_train_SMOTE,y_train_SMOTE)"
   ]
  },
  {
   "cell_type": "code",
   "execution_count": null,
   "metadata": {},
   "outputs": [],
   "source": [
    "rf_best = grid_search.best_estimator_\n",
    "rf_best"
   ]
  },
  {
   "cell_type": "code",
   "execution_count": null,
   "metadata": {},
   "outputs": [],
   "source": [
    "rc=RandomForestClassifier(max_depth=20, max_features=4, min_samples_leaf=5,n_estimators=10, n_jobs=-1, random_state=42)\n",
    "rc"
   ]
  },
  {
   "cell_type": "code",
   "execution_count": null,
   "metadata": {},
   "outputs": [],
   "source": [
    "rc.fit(x_train_SMOTE,y_train_SMOTE)"
   ]
  },
  {
   "cell_type": "code",
   "execution_count": null,
   "metadata": {},
   "outputs": [],
   "source": [
    "y_pred=rc.predict(x_test)\n",
    "y_pred"
   ]
  },
  {
   "cell_type": "code",
   "execution_count": null,
   "metadata": {
    "colab": {
     "base_uri": "https://localhost:8080/"
    },
    "id": "ser9PaT3meOC",
    "outputId": "85336296-9cd6-4f7f-ae60-896e536f6050"
   },
   "outputs": [],
   "source": [
    "print(accuracy_score(y_test, y_pred))"
   ]
  },
  {
   "cell_type": "code",
   "execution_count": null,
   "metadata": {
    "colab": {
     "base_uri": "https://localhost:8080/"
    },
    "id": "BPdAkdgVmn5H",
    "outputId": "d8e13ed8-fe57-4884-fa45-412870c72a20"
   },
   "outputs": [],
   "source": [
    "print(confusion_matrix(y_test,y_pred))\n"
   ]
  },
  {
   "cell_type": "code",
   "execution_count": null,
   "metadata": {
    "colab": {
     "base_uri": "https://localhost:8080/"
    },
    "id": "v4W2UrbJmqvq",
    "outputId": "85c618da-ee82-4c28-c692-d8b4c8ccb89d"
   },
   "outputs": [],
   "source": [
    "print(classification_report(y_test, y_pred))"
   ]
  },
  {
   "cell_type": "code",
   "execution_count": null,
   "metadata": {},
   "outputs": [],
   "source": []
  },
  {
   "cell_type": "code",
   "execution_count": null,
   "metadata": {
    "id": "BD-H9LSK_I5p"
   },
   "outputs": [],
   "source": [
    "data3.info()"
   ]
  },
  {
   "cell_type": "code",
   "execution_count": null,
   "metadata": {},
   "outputs": [],
   "source": [
    "data3.head()"
   ]
  },
  {
   "cell_type": "markdown",
   "metadata": {
    "id": "Qx5uqHuUCzVv"
   },
   "source": [
    "## Recommendation"
   ]
  },
  {
   "cell_type": "code",
   "execution_count": null,
   "metadata": {
    "id": "Ed6bL7LkC1Rp"
   },
   "outputs": [],
   "source": [
    "# Content based\n",
    "# collabarative (useruser based and itemitem based using csiine similarity)"
   ]
  },
  {
   "cell_type": "code",
   "execution_count": null,
   "metadata": {},
   "outputs": [],
   "source": [
    "## Lets create a new dataframe called data4 for recommendation algorithm building"
   ]
  },
  {
   "cell_type": "code",
   "execution_count": null,
   "metadata": {},
   "outputs": [],
   "source": [
    "data4=data3[:]\n",
    "data4.head(3)"
   ]
  },
  {
   "cell_type": "code",
   "execution_count": null,
   "metadata": {
    "id": "3Y75afr6ZanD"
   },
   "outputs": [],
   "source": [
    "## user-user based"
   ]
  },
  {
   "cell_type": "code",
   "execution_count": null,
   "metadata": {
    "id": "yW5T0yiYExdB"
   },
   "outputs": [],
   "source": [
    "# Test and Train split of the dataset.\n",
    "from sklearn.model_selection import train_test_split\n",
    "train, test = train_test_split(data4, test_size=0.2, random_state=42)"
   ]
  },
  {
   "cell_type": "code",
   "execution_count": null,
   "metadata": {
    "id": "zJFq41WVExdB"
   },
   "outputs": [],
   "source": [
    "print(train.shape)\n",
    "print(test.shape)"
   ]
  },
  {
   "cell_type": "code",
   "execution_count": null,
   "metadata": {},
   "outputs": [],
   "source": [
    "train.head(3)"
   ]
  },
  {
   "cell_type": "code",
   "execution_count": null,
   "metadata": {},
   "outputs": [],
   "source": [
    "test.head(1)"
   ]
  },
  {
   "cell_type": "code",
   "execution_count": null,
   "metadata": {},
   "outputs": [],
   "source": [
    "data4['reviews_rating'].value_counts()"
   ]
  },
  {
   "cell_type": "code",
   "execution_count": null,
   "metadata": {
    "id": "8mCE__XgExdC"
   },
   "outputs": [],
   "source": [
    "# Create a pivot table and see how rating is provided by each user by different products\n",
    "df_pivot = train.pivot_table(\n",
    "    index='reviews_username',\n",
    "    columns='name',\n",
    "    values='reviews_rating'\n",
    ").fillna(0)\n",
    "\n",
    "df_pivot.head(3)"
   ]
  },
  {
   "cell_type": "raw",
   "metadata": {},
   "source": [
    "test.head()"
   ]
  },
  {
   "cell_type": "code",
   "execution_count": null,
   "metadata": {},
   "outputs": [],
   "source": [
    "## craeting dummy train and dummy test dataset"
   ]
  },
  {
   "cell_type": "markdown",
   "metadata": {
    "id": "Gc8gJh-YExdC"
   },
   "source": [
    "### Creating dummy train & dummy test dataset\n",
    "These dataset will be used for prediction \n",
    "- Dummy train will be used later for prediction of the movies which has not been rated by the user. To ignore the movies rated by the user, we will mark it as 0 during prediction. The movies not rated by user is marked as 1 for prediction in dummy train dataset. \n",
    "\n",
    "- Dummy test will be used for evaluation. To evaluate, we will only make prediction on the movies rated by the user. So, this is marked as 1. This is just opposite of dummy_train."
   ]
  },
  {
   "cell_type": "code",
   "execution_count": null,
   "metadata": {
    "id": "zttrkghGExdD"
   },
   "outputs": [],
   "source": [
    "# Copy the train dataset into dummy_train\n",
    "dummy_train = train.copy()"
   ]
  },
  {
   "cell_type": "code",
   "execution_count": null,
   "metadata": {
    "id": "3G4s9lvVExdD"
   },
   "outputs": [],
   "source": [
    "# The movies not rated by user is marked as 1 for prediction. \n",
    "dummy_train['reviews_rating'] = dummy_train['reviews_rating'].apply(lambda x: 0 if x>=1 else 1)"
   ]
  },
  {
   "cell_type": "code",
   "execution_count": null,
   "metadata": {},
   "outputs": [],
   "source": [
    "dummy_train['reviews_rating'].value_counts()"
   ]
  },
  {
   "cell_type": "code",
   "execution_count": null,
   "metadata": {
    "id": "UFSn3np7ExdD"
   },
   "outputs": [],
   "source": [
    "# Convert the dummy train dataset into matrix format.\n",
    "dummy_train = dummy_train.pivot_table(\n",
    "    index='reviews_username',\n",
    "    columns='name',\n",
    "    values='reviews_rating'\n",
    ").fillna(1)"
   ]
  },
  {
   "cell_type": "code",
   "execution_count": null,
   "metadata": {
    "id": "Of3c1dioExdD"
   },
   "outputs": [],
   "source": [
    "dummy_train.head(5)"
   ]
  },
  {
   "cell_type": "markdown",
   "metadata": {
    "id": "UXqgMNIjfQ2-"
   },
   "source": [
    "**Cosine Similarity**\n",
    "\n",
    "Cosine Similarity is a measurement that quantifies the similarity between two vectors [Which is Rating Vector in this case] \n",
    "\n",
    "**Adjusted Cosine**\n",
    "\n",
    "Adjusted cosine similarity is a modified version of vector-based similarity where we incorporate the fact that different users have different ratings schemes. In other words, some users might rate items highly in general, and others might give items lower ratings as a preference. To handle this nature from rating given by user , we subtract average ratings for each user from each user's rating for different movies.\n",
    "\n"
   ]
  },
  {
   "cell_type": "markdown",
   "metadata": {
    "id": "1g14byvoExdE"
   },
   "source": [
    "# User Similarity Matrix"
   ]
  },
  {
   "cell_type": "markdown",
   "metadata": {
    "id": "xCN3f1X0ExdE"
   },
   "source": [
    "## Using Cosine Similarity"
   ]
  },
  {
   "cell_type": "code",
   "execution_count": null,
   "metadata": {
    "id": "AerlX5jdExdE"
   },
   "outputs": [],
   "source": [
    "from sklearn.metrics.pairwise import pairwise_distances\n",
    "\n",
    "# Creating the User Similarity Matrix using pairwise_distance function.\n",
    "user_correlation = 1 - pairwise_distances(df_pivot, metric='cosine')\n",
    "user_correlation[np.isnan(user_correlation)] = 0\n",
    "print(user_correlation)"
   ]
  },
  {
   "cell_type": "code",
   "execution_count": null,
   "metadata": {
    "id": "5EA6M0wUExdF"
   },
   "outputs": [],
   "source": [
    "user_correlation.shape"
   ]
  },
  {
   "cell_type": "code",
   "execution_count": null,
   "metadata": {},
   "outputs": [],
   "source": [
    "dummy_train.head()"
   ]
  },
  {
   "cell_type": "markdown",
   "metadata": {
    "id": "UqRArQEDExdF"
   },
   "source": [
    "## Using adjusted Cosine "
   ]
  },
  {
   "cell_type": "markdown",
   "metadata": {
    "id": "oP9vrfQuExdF"
   },
   "source": [
    "### Here, we are not removing the NaN values and calculating the mean only for the movies rated by the user"
   ]
  },
  {
   "cell_type": "code",
   "execution_count": null,
   "metadata": {
    "id": "NK8Z9wxKExdF"
   },
   "outputs": [],
   "source": [
    "# Create a user-movie matrix.\n",
    "df_pivot = train.pivot_table(\n",
    "    index='reviews_username',\n",
    "    columns='name',\n",
    "    values='reviews_rating'\n",
    ")"
   ]
  },
  {
   "cell_type": "code",
   "execution_count": null,
   "metadata": {
    "id": "2M9VgXElExdG"
   },
   "outputs": [],
   "source": [
    "df_pivot.tail(10)"
   ]
  },
  {
   "cell_type": "markdown",
   "metadata": {
    "id": "3xIwq2tEExdG"
   },
   "source": [
    "### Normalising the rating of the movie for each user around 0 mean"
   ]
  },
  {
   "cell_type": "code",
   "execution_count": null,
   "metadata": {
    "id": "iIPOrBJJExdG"
   },
   "outputs": [],
   "source": [
    "mean = np.nanmean(df_pivot, axis=1)\n",
    "df_subtracted = (df_pivot.T-mean).T"
   ]
  },
  {
   "cell_type": "code",
   "execution_count": null,
   "metadata": {
    "id": "YG9wWuF6ExdG"
   },
   "outputs": [],
   "source": [
    "df_subtracted.head()"
   ]
  },
  {
   "cell_type": "code",
   "execution_count": null,
   "metadata": {},
   "outputs": [],
   "source": [
    "df_subtracted.tail(10)"
   ]
  },
  {
   "cell_type": "markdown",
   "metadata": {
    "id": "Hhn3tGtCExdG"
   },
   "source": [
    "### Finding cosine similarity"
   ]
  },
  {
   "cell_type": "code",
   "execution_count": null,
   "metadata": {
    "id": "cz9Mt3W0ExdH"
   },
   "outputs": [],
   "source": [
    "from sklearn.metrics.pairwise import pairwise_distances"
   ]
  },
  {
   "cell_type": "code",
   "execution_count": null,
   "metadata": {
    "id": "p6WRLBAIPd_k"
   },
   "outputs": [],
   "source": [
    "# Creating the User Similarity Matrix using pairwise_distance function.\n",
    "user_correlation = 1 - pairwise_distances(df_subtracted.fillna(0), metric='cosine')\n",
    "user_correlation[np.isnan(user_correlation)] = 0\n",
    "print(user_correlation)"
   ]
  },
  {
   "cell_type": "markdown",
   "metadata": {
    "id": "ZclauxcCExdH"
   },
   "source": [
    "## Prediction - User User"
   ]
  },
  {
   "cell_type": "markdown",
   "metadata": {
    "id": "1Gv7jXwsExdH"
   },
   "source": [
    "Doing the prediction for the users which are positively related with other users, and not the users which are negatively related as we are interested in the users which are more similar to the current users. So, ignoring the correlation for values less than 0. "
   ]
  },
  {
   "cell_type": "code",
   "execution_count": null,
   "metadata": {
    "id": "fY1304VMExdH"
   },
   "outputs": [],
   "source": [
    "user_correlation[user_correlation<0]=0\n",
    "user_correlation"
   ]
  },
  {
   "cell_type": "markdown",
   "metadata": {
    "id": "TjdiwJIzExdI"
   },
   "source": [
    "Rating predicted by the user (for movies rated as well as not rated) is the weighted sum of correlation with the movie rating (as present in the rating dataset). "
   ]
  },
  {
   "cell_type": "code",
   "execution_count": null,
   "metadata": {
    "id": "9OqMKQHSExdI"
   },
   "outputs": [],
   "source": [
    "user_predicted_ratings = np.dot(user_correlation, df_pivot.fillna(0))\n",
    "user_predicted_ratings"
   ]
  },
  {
   "cell_type": "code",
   "execution_count": null,
   "metadata": {
    "id": "M5ZIjVkQExdI"
   },
   "outputs": [],
   "source": [
    "user_predicted_ratings.shape"
   ]
  },
  {
   "cell_type": "markdown",
   "metadata": {
    "id": "w2WW_MKlExdI"
   },
   "source": [
    "Since we are interested only in the movies not rated by the user, we will ignore the movies rated by the user by making it zero. "
   ]
  },
  {
   "cell_type": "code",
   "execution_count": null,
   "metadata": {
    "id": "4MYZss5bExdI"
   },
   "outputs": [],
   "source": [
    "user_final_rating = np.multiply(user_predicted_ratings,dummy_train)\n",
    "user_final_rating.head()"
   ]
  },
  {
   "cell_type": "code",
   "execution_count": null,
   "metadata": {},
   "outputs": [],
   "source": [
    "user_final_rating.tail(10)"
   ]
  },
  {
   "cell_type": "markdown",
   "metadata": {
    "id": "7W_Kr8N8ExdJ"
   },
   "source": [
    "### Finding the top 5 recommendation for the *user*"
   ]
  },
  {
   "cell_type": "code",
   "execution_count": null,
   "metadata": {
    "id": "WL8Yt7ZRSiev"
   },
   "outputs": [],
   "source": [
    "# Take the user ID as input.\n",
    "user_input = input(\"Enter your user name \")\n",
    "print(user_input)"
   ]
  },
  {
   "cell_type": "code",
   "execution_count": null,
   "metadata": {
    "id": "PzZygPXjuN-a"
   },
   "outputs": [],
   "source": [
    "user_final_rating.head(2)"
   ]
  },
  {
   "cell_type": "code",
   "execution_count": null,
   "metadata": {},
   "outputs": [],
   "source": [
    "user_final_rating.tail()"
   ]
  },
  {
   "cell_type": "code",
   "execution_count": null,
   "metadata": {
    "id": "B9KjLfI9ExdJ"
   },
   "outputs": [],
   "source": [
    "d = user_final_rating.loc[user_input].sort_values(ascending=False)[0:20]\n",
    "d"
   ]
  },
  {
   "cell_type": "raw",
   "metadata": {},
   "source": [
    "joshua\n",
    "dorothy w\n",
    "dorothy w\n",
    "rebecca\n",
    "walker557\n",
    "samantha\n",
    "raeanne\n",
    "kimmie\n"
   ]
  },
  {
   "cell_type": "markdown",
   "metadata": {
    "id": "pV2YmSaHoflL"
   },
   "source": [
    "# Evaluation - User User "
   ]
  },
  {
   "cell_type": "markdown",
   "metadata": {
    "id": "Sv4DnzeboflU"
   },
   "source": [
    "Evaluation will be same as you have seen above for the prediction. The only difference being, you will evaluate for the movie already rated by the user insead of predicting it for the movie not rated by the user. "
   ]
  },
  {
   "cell_type": "code",
   "execution_count": null,
   "metadata": {},
   "outputs": [],
   "source": [
    "test.head(2)"
   ]
  },
  {
   "cell_type": "code",
   "execution_count": null,
   "metadata": {
    "id": "jTAMAiCqoflV"
   },
   "outputs": [],
   "source": [
    "# Find out the common users of test and train dataset.\n",
    "common = test[test.reviews_username.isin(train.reviews_username)]\n",
    "common.shape"
   ]
  },
  {
   "cell_type": "code",
   "execution_count": null,
   "metadata": {
    "id": "sTMqgWYtoflV"
   },
   "outputs": [],
   "source": [
    "common.head(1)"
   ]
  },
  {
   "cell_type": "code",
   "execution_count": null,
   "metadata": {
    "id": "4IFpOTyeoflW"
   },
   "outputs": [],
   "source": [
    "# convert into the user-movie matrix.\n",
    "common_user_based_matrix = common.pivot_table(index='reviews_username', columns='name', values='reviews_rating')\n",
    "common_user_based_matrix.head(2)"
   ]
  },
  {
   "cell_type": "code",
   "execution_count": null,
   "metadata": {
    "id": "SH7i0WFfoflW"
   },
   "outputs": [],
   "source": [
    "# Convert the user_correlation matrix into dataframe.\n",
    "user_correlation_df = pd.DataFrame(user_correlation)"
   ]
  },
  {
   "cell_type": "code",
   "execution_count": null,
   "metadata": {
    "id": "LWhAv35foflW"
   },
   "outputs": [],
   "source": [
    "df_subtracted.head(1)"
   ]
  },
  {
   "cell_type": "code",
   "execution_count": null,
   "metadata": {
    "id": "wDVHF9tkoflX"
   },
   "outputs": [],
   "source": [
    "user_correlation_df['reviews_username'] = df_subtracted.index\n",
    "user_correlation_df.set_index('reviews_username',inplace=True)\n",
    "user_correlation_df.head()"
   ]
  },
  {
   "cell_type": "code",
   "execution_count": null,
   "metadata": {
    "id": "K1LIYGngoflX"
   },
   "outputs": [],
   "source": [
    "common.head(1)"
   ]
  },
  {
   "cell_type": "code",
   "execution_count": null,
   "metadata": {
    "id": "vbVLc32woflX"
   },
   "outputs": [],
   "source": [
    "list_name = common.reviews_username.tolist()\n",
    "\n",
    "user_correlation_df.columns = df_subtracted.index.tolist()\n",
    "\n",
    "\n",
    "user_correlation_df_1 =  user_correlation_df[user_correlation_df.index.isin(list_name)]"
   ]
  },
  {
   "cell_type": "code",
   "execution_count": null,
   "metadata": {},
   "outputs": [],
   "source": [
    "user_correlation_df.columns"
   ]
  },
  {
   "cell_type": "code",
   "execution_count": null,
   "metadata": {},
   "outputs": [],
   "source": [
    "list_name"
   ]
  },
  {
   "cell_type": "raw",
   "metadata": {},
   "source": [
    "user_correlation_df[user_correlation_df.index.isin(list_name)]"
   ]
  },
  {
   "cell_type": "code",
   "execution_count": null,
   "metadata": {},
   "outputs": [],
   "source": [
    "user_correlation_df.head(1)"
   ]
  },
  {
   "cell_type": "code",
   "execution_count": null,
   "metadata": {
    "id": "Ip3u4ITFoflX"
   },
   "outputs": [],
   "source": [
    "user_correlation_df_1.shape"
   ]
  },
  {
   "cell_type": "code",
   "execution_count": null,
   "metadata": {
    "id": "THqWM0btoflX"
   },
   "outputs": [],
   "source": [
    "user_correlation_df_2 = user_correlation_df_1.T[user_correlation_df_1.T.index.isin(list_name)]"
   ]
  },
  {
   "cell_type": "code",
   "execution_count": null,
   "metadata": {
    "id": "sNtBboRooflY"
   },
   "outputs": [],
   "source": [
    "user_correlation_df_3 = user_correlation_df_2.T"
   ]
  },
  {
   "cell_type": "code",
   "execution_count": null,
   "metadata": {
    "id": "dMT2WTq9oflY"
   },
   "outputs": [],
   "source": [
    "user_correlation_df_3.head()"
   ]
  },
  {
   "cell_type": "code",
   "execution_count": null,
   "metadata": {
    "id": "9O2LDR78tiIw"
   },
   "outputs": [],
   "source": [
    "user_correlation_df_3.shape"
   ]
  },
  {
   "cell_type": "code",
   "execution_count": null,
   "metadata": {
    "id": "9CD6JjBVoflY"
   },
   "outputs": [],
   "source": [
    "user_correlation_df_3[user_correlation_df_3<0]=0\n",
    "\n",
    "common_user_predicted_ratings = np.dot(user_correlation_df_3, common_user_based_matrix.fillna(0))\n",
    "common_user_predicted_ratings"
   ]
  },
  {
   "cell_type": "code",
   "execution_count": null,
   "metadata": {
    "id": "Mbe5y3mWoflY"
   },
   "outputs": [],
   "source": [
    "dummy_test = common.copy()\n",
    "\n",
    "dummy_test['reviews_rating'] = dummy_test['reviews_rating'].apply(lambda x: 1 if x>=1 else 0)\n",
    "\n",
    "dummy_test = dummy_test.pivot_table(index='reviews_username', columns='name', values='reviews_rating').fillna(0)"
   ]
  },
  {
   "cell_type": "code",
   "execution_count": null,
   "metadata": {
    "id": "jguea31yoflY"
   },
   "outputs": [],
   "source": [
    "dummy_test.shape"
   ]
  },
  {
   "cell_type": "code",
   "execution_count": null,
   "metadata": {
    "id": "mjBXh_z3oflZ"
   },
   "outputs": [],
   "source": [
    "common_user_predicted_ratings = np.multiply(common_user_predicted_ratings,dummy_test)"
   ]
  },
  {
   "cell_type": "code",
   "execution_count": null,
   "metadata": {
    "id": "h1GndCymoflZ"
   },
   "outputs": [],
   "source": [
    "common_user_predicted_ratings.head(2)"
   ]
  },
  {
   "cell_type": "markdown",
   "metadata": {
    "id": "emGudTfJoflZ"
   },
   "source": [
    "Calculating the RMSE for only the movies rated by user. For RMSE, normalising the rating to (1,5) range."
   ]
  },
  {
   "cell_type": "code",
   "execution_count": null,
   "metadata": {
    "id": "6hNEKDAwoflZ"
   },
   "outputs": [],
   "source": [
    "from sklearn.preprocessing import MinMaxScaler\n",
    "from numpy import *\n",
    "\n",
    "X  = common_user_predicted_ratings.copy() \n",
    "X = X[X>0]\n",
    "\n",
    "scaler = MinMaxScaler(feature_range=(1, 5))\n",
    "print(scaler.fit(X))\n",
    "y = (scaler.transform(X))\n",
    "\n",
    "print(y)"
   ]
  },
  {
   "cell_type": "code",
   "execution_count": null,
   "metadata": {
    "id": "Y-OYsB-4oflZ"
   },
   "outputs": [],
   "source": [
    "common_ = common.pivot_table(index='reviews_username', columns='name', values='reviews_rating')"
   ]
  },
  {
   "cell_type": "code",
   "execution_count": null,
   "metadata": {
    "id": "aJRM9xMAofla"
   },
   "outputs": [],
   "source": [
    "# Finding total non-NaN value\n",
    "total_non_nan = np.count_nonzero(~np.isnan(y))"
   ]
  },
  {
   "cell_type": "code",
   "execution_count": null,
   "metadata": {
    "id": "dhnKWyazofla"
   },
   "outputs": [],
   "source": [
    "rmse = (sum(sum((common_ - y )**2))/total_non_nan)**0.5\n",
    "print(rmse)"
   ]
  },
  {
   "cell_type": "markdown",
   "metadata": {
    "id": "0SLeLKr5ofla"
   },
   "source": [
    "## Using Item similarity"
   ]
  },
  {
   "cell_type": "markdown",
   "metadata": {
    "id": "5pN2OrMVExdJ"
   },
   "source": [
    "# Item Based Similarity"
   ]
  },
  {
   "cell_type": "markdown",
   "metadata": {
    "id": "AQR5JcURExdJ"
   },
   "source": [
    "Taking the transpose of the rating matrix to normalize the rating around the mean for different movie ID. In the user based similarity, we had taken mean for each user instead of each movie. "
   ]
  },
  {
   "cell_type": "code",
   "execution_count": null,
   "metadata": {},
   "outputs": [],
   "source": [
    "train.head(1)"
   ]
  },
  {
   "cell_type": "code",
   "execution_count": null,
   "metadata": {
    "id": "PuZ_rfmWExdK"
   },
   "outputs": [],
   "source": [
    "df_pivot = train.pivot_table(\n",
    "    index='reviews_username',\n",
    "    columns='name',\n",
    "    values='reviews_rating'\n",
    ").T\n",
    "\n",
    "df_pivot.head()"
   ]
  },
  {
   "cell_type": "markdown",
   "metadata": {
    "id": "tXqVjcM8ExdK"
   },
   "source": [
    "Normalising the movie rating for each movie for using the Adujsted Cosine"
   ]
  },
  {
   "cell_type": "code",
   "execution_count": null,
   "metadata": {
    "id": "eZIvacU4ExdK"
   },
   "outputs": [],
   "source": [
    "mean = np.nanmean(df_pivot, axis=1)\n",
    "df_subtracted = (df_pivot.T-mean).T"
   ]
  },
  {
   "cell_type": "code",
   "execution_count": null,
   "metadata": {
    "id": "or2hisf6ExdK"
   },
   "outputs": [],
   "source": [
    "df_subtracted.head()"
   ]
  },
  {
   "cell_type": "markdown",
   "metadata": {
    "id": "_ddgngXvExdK"
   },
   "source": [
    "Finding the cosine similarity using pairwise distances approach"
   ]
  },
  {
   "cell_type": "code",
   "execution_count": null,
   "metadata": {
    "id": "6w_pMqFYExdL"
   },
   "outputs": [],
   "source": [
    "from sklearn.metrics.pairwise import pairwise_distances"
   ]
  },
  {
   "cell_type": "code",
   "execution_count": null,
   "metadata": {
    "id": "wvM0YMzqTD6Z"
   },
   "outputs": [],
   "source": [
    "# Item Similarity Matrix\n",
    "item_correlation = 1 - pairwise_distances(df_subtracted.fillna(0), metric='cosine')\n",
    "item_correlation[np.isnan(item_correlation)] = 0\n",
    "print(item_correlation)"
   ]
  },
  {
   "cell_type": "markdown",
   "metadata": {
    "id": "MGf62jf-ExdL"
   },
   "source": [
    "Filtering the correlation only for which the value is greater than 0. (Positively correlated)"
   ]
  },
  {
   "cell_type": "code",
   "execution_count": null,
   "metadata": {
    "id": "Ag8UtCCgExdL"
   },
   "outputs": [],
   "source": [
    "item_correlation[item_correlation<0]=0\n",
    "item_correlation"
   ]
  },
  {
   "cell_type": "markdown",
   "metadata": {
    "id": "UBVxQ8voExdL"
   },
   "source": [
    "# Prediction - Item Item"
   ]
  },
  {
   "cell_type": "code",
   "execution_count": null,
   "metadata": {
    "id": "vcj-e9_BExdL"
   },
   "outputs": [],
   "source": [
    "item_predicted_ratings = np.dot((df_pivot.fillna(0).T),item_correlation)\n",
    "item_predicted_ratings"
   ]
  },
  {
   "cell_type": "code",
   "execution_count": null,
   "metadata": {
    "id": "w_wMFJu7ExdM"
   },
   "outputs": [],
   "source": [
    "item_predicted_ratings.shape"
   ]
  },
  {
   "cell_type": "code",
   "execution_count": null,
   "metadata": {
    "id": "D-O03UlpExdM"
   },
   "outputs": [],
   "source": [
    "dummy_train.shape"
   ]
  },
  {
   "cell_type": "markdown",
   "metadata": {
    "id": "b7H4yJpaExdM"
   },
   "source": [
    "### Filtering the rating only for the movies not rated by the user for recommendation"
   ]
  },
  {
   "cell_type": "code",
   "execution_count": null,
   "metadata": {
    "id": "_AfkZebKExdM"
   },
   "outputs": [],
   "source": [
    "item_final_rating = np.multiply(item_predicted_ratings,dummy_train)\n",
    "item_final_rating.head()"
   ]
  },
  {
   "cell_type": "markdown",
   "metadata": {
    "id": "WPn1Dz8LExdM"
   },
   "source": [
    "### Finding the top 5 recommendation for the *user*\n",
    "\n"
   ]
  },
  {
   "cell_type": "code",
   "execution_count": null,
   "metadata": {
    "id": "tQZl7CAgUiSH"
   },
   "outputs": [],
   "source": [
    "# Take the user ID as input\n",
    "user_input = input(\"Enter your user name \")\n",
    "print(user_input)"
   ]
  },
  {
   "cell_type": "code",
   "execution_count": null,
   "metadata": {
    "id": "-4T_IOaXUjXK"
   },
   "outputs": [],
   "source": [
    "# Recommending the Top 5 products to the user.\n",
    "d = item_final_rating.loc[user_input].sort_values(ascending=False)[0:5]\n",
    "d"
   ]
  },
  {
   "cell_type": "markdown",
   "metadata": {
    "id": "jjg4AQbcExdN"
   },
   "source": [
    "# Evaluation - Item Item"
   ]
  },
  {
   "cell_type": "markdown",
   "metadata": {
    "id": "qtw9ebU1ExdN"
   },
   "source": [
    "Evaluation will we same as you have seen above for the prediction. The only difference being, you will evaluate for the movie already rated by the user insead of predicting it for the movie not rated by the user. "
   ]
  },
  {
   "cell_type": "code",
   "execution_count": null,
   "metadata": {
    "colab": {
     "base_uri": "https://localhost:8080/"
    },
    "id": "C-EiZ7gNAUQS",
    "outputId": "41dd5ab1-d790-4620-b61b-77ec12cb73fe"
   },
   "outputs": [],
   "source": [
    "test.columns"
   ]
  },
  {
   "cell_type": "code",
   "execution_count": null,
   "metadata": {
    "colab": {
     "base_uri": "https://localhost:8080/"
    },
    "id": "d_ExtVCaWiEq",
    "outputId": "5e986076-94d9-4ed4-aa78-26b2b99eec6d"
   },
   "outputs": [],
   "source": [
    "common =  test[test.name.isin(train.name)]\n",
    "common.shape"
   ]
  },
  {
   "cell_type": "code",
   "execution_count": null,
   "metadata": {
    "colab": {
     "base_uri": "https://localhost:8080/",
     "height": 171
    },
    "id": "uXgx9w9c0ti5",
    "outputId": "55285ae8-c3f1-45cb-d3d4-1461e21c21d6"
   },
   "outputs": [],
   "source": [
    "common.head(4)"
   ]
  },
  {
   "cell_type": "code",
   "execution_count": null,
   "metadata": {
    "id": "3xinGmbxHdsL"
   },
   "outputs": [],
   "source": [
    "common_item_based_matrix = common.pivot_table(index='reviews_username', columns='name', values='reviews_rating').T"
   ]
  },
  {
   "cell_type": "code",
   "execution_count": null,
   "metadata": {
    "colab": {
     "base_uri": "https://localhost:8080/"
    },
    "id": "bj7SQa36H2tC",
    "outputId": "c9ecdd10-359a-4915-9372-c1c4bb6a8f31"
   },
   "outputs": [],
   "source": [
    "common_item_based_matrix.shape"
   ]
  },
  {
   "cell_type": "code",
   "execution_count": null,
   "metadata": {
    "id": "n80CcpaX1UQ8"
   },
   "outputs": [],
   "source": [
    "item_correlation_df = pd.DataFrame(item_correlation)"
   ]
  },
  {
   "cell_type": "code",
   "execution_count": null,
   "metadata": {
    "colab": {
     "base_uri": "https://localhost:8080/",
     "height": 129
    },
    "id": "OTOgMuup1g_G",
    "outputId": "fcd743eb-d825-4432-da42-94720a7d99cf"
   },
   "outputs": [],
   "source": [
    "item_correlation_df.head(1)"
   ]
  },
  {
   "cell_type": "code",
   "execution_count": null,
   "metadata": {
    "colab": {
     "base_uri": "https://localhost:8080/",
     "height": 282
    },
    "id": "EA7LH-mK1dUM",
    "outputId": "e30dea0c-5d80-433d-a7bd-5c2d866cbed8"
   },
   "outputs": [],
   "source": [
    "item_correlation_df['name'] = df_subtracted.index\n",
    "item_correlation_df.set_index('name',inplace=True)\n",
    "item_correlation_df.head()"
   ]
  },
  {
   "cell_type": "code",
   "execution_count": null,
   "metadata": {
    "id": "qIjL6zHB1-45"
   },
   "outputs": [],
   "source": [
    "list_name = common.name.tolist()"
   ]
  },
  {
   "cell_type": "code",
   "execution_count": null,
   "metadata": {
    "id": "sLYXW2c42EjC"
   },
   "outputs": [],
   "source": [
    "item_correlation_df.columns = df_subtracted.index.tolist()\n",
    "\n",
    "item_correlation_df_1 =  item_correlation_df[item_correlation_df.index.isin(list_name)]"
   ]
  },
  {
   "cell_type": "code",
   "execution_count": null,
   "metadata": {
    "id": "r5PhoITK2L9i"
   },
   "outputs": [],
   "source": [
    "item_correlation_df_2 = item_correlation_df_1.T[item_correlation_df_1.T.index.isin(list_name)]\n",
    "\n",
    "item_correlation_df_3 = item_correlation_df_2.T"
   ]
  },
  {
   "cell_type": "code",
   "execution_count": null,
   "metadata": {
    "colab": {
     "base_uri": "https://localhost:8080/",
     "height": 282
    },
    "id": "A9CBf1QCfiwB",
    "outputId": "9c844c9f-c04e-432f-bc57-33dd66ce7489"
   },
   "outputs": [],
   "source": [
    "item_correlation_df_3.head()"
   ]
  },
  {
   "cell_type": "code",
   "execution_count": null,
   "metadata": {
    "colab": {
     "base_uri": "https://localhost:8080/"
    },
    "id": "8d2XAuXw2SgZ",
    "outputId": "d0450e69-3afd-425a-b608-76f41bc7f22f"
   },
   "outputs": [],
   "source": [
    "item_correlation_df_3[item_correlation_df_3<0]=0\n",
    "\n",
    "common_item_predicted_ratings = np.dot(item_correlation_df_3, common_item_based_matrix.fillna(0))\n",
    "common_item_predicted_ratings\n"
   ]
  },
  {
   "cell_type": "code",
   "execution_count": null,
   "metadata": {
    "colab": {
     "base_uri": "https://localhost:8080/"
    },
    "id": "-7SeXXO_bHfM",
    "outputId": "5ce66c7b-01c0-46da-d986-ade25900f769"
   },
   "outputs": [],
   "source": [
    "common_item_predicted_ratings.shape"
   ]
  },
  {
   "cell_type": "code",
   "execution_count": null,
   "metadata": {},
   "outputs": [],
   "source": []
  },
  {
   "cell_type": "markdown",
   "metadata": {
    "id": "ZA5m3_ZFe3-D"
   },
   "source": [
    "Dummy test will be used for evaluation. To evaluate, we will only make prediction on the movies rated by the user. So, this is marked as 1. This is just opposite of dummy_train\n",
    "\n"
   ]
  },
  {
   "cell_type": "code",
   "execution_count": null,
   "metadata": {
    "id": "hq4n5DKn2azL"
   },
   "outputs": [],
   "source": [
    "dummy_test = common.copy()\n",
    "\n",
    "dummy_test['reviews_rating'] = dummy_test['reviews_rating'].apply(lambda x: 1 if x>=1 else 0)\n",
    "\n",
    "dummy_test = dummy_test.pivot_table(index='reviews_username', columns='name', values='reviews_rating').T.fillna(0)\n",
    "\n",
    "common_item_predicted_ratings = np.multiply(common_item_predicted_ratings,dummy_test)"
   ]
  },
  {
   "cell_type": "markdown",
   "metadata": {
    "id": "AJr9sueCe-pW"
   },
   "source": [
    "The products not rated is marked as 0 for evaluation. And make the item- item matrix representaion.\n"
   ]
  },
  {
   "cell_type": "code",
   "execution_count": null,
   "metadata": {
    "id": "Qd8zErT6H7PH"
   },
   "outputs": [],
   "source": [
    "common_ = common.pivot_table(index='reviews_username', columns='name', values='reviews_rating').T"
   ]
  },
  {
   "cell_type": "code",
   "execution_count": null,
   "metadata": {
    "colab": {
     "base_uri": "https://localhost:8080/"
    },
    "id": "SbTJc6tmIm-d",
    "outputId": "7ce821f3-09f2-4f71-ed84-2c1e172a8438"
   },
   "outputs": [],
   "source": [
    "from sklearn.preprocessing import MinMaxScaler\n",
    "from numpy import *\n",
    "\n",
    "X  = common_item_predicted_ratings.copy() \n",
    "X = X[X>0]\n",
    "\n",
    "scaler = MinMaxScaler(feature_range=(1, 5))\n",
    "print(scaler.fit(X))\n",
    "y = (scaler.transform(X))\n",
    "\n",
    "print(y)"
   ]
  },
  {
   "cell_type": "code",
   "execution_count": null,
   "metadata": {
    "id": "xLvB_o4lDvli"
   },
   "outputs": [],
   "source": [
    "# Finding total non-NaN value\n",
    "total_non_nan = np.count_nonzero(~np.isnan(y))"
   ]
  },
  {
   "cell_type": "code",
   "execution_count": null,
   "metadata": {
    "colab": {
     "base_uri": "https://localhost:8080/"
    },
    "id": "DEFC02uXIneM",
    "outputId": "cf7bb08f-eadc-4a12-87f1-834fcc631bed"
   },
   "outputs": [],
   "source": [
    "rmse = (sum(sum((common_ - y )**2))/total_non_nan)**0.5\n",
    "print(rmse)"
   ]
  },
  {
   "cell_type": "code",
   "execution_count": null,
   "metadata": {},
   "outputs": [],
   "source": [
    "# User based Results"
   ]
  },
  {
   "cell_type": "code",
   "execution_count": null,
   "metadata": {},
   "outputs": [],
   "source": [
    "d = user_final_rating.loc[user_input].sort_values(ascending=False)[0:20]\n",
    "d"
   ]
  },
  {
   "cell_type": "code",
   "execution_count": null,
   "metadata": {},
   "outputs": [],
   "source": [
    "# Convert data into dataframe"
   ]
  },
  {
   "cell_type": "code",
   "execution_count": null,
   "metadata": {},
   "outputs": [],
   "source": [
    "dd = {'product': d.index, 'recomvalue': d.values}"
   ]
  },
  {
   "cell_type": "code",
   "execution_count": null,
   "metadata": {},
   "outputs": [],
   "source": [
    "newdf=pd.DataFrame(dd,index=range(0,20))\n",
    "newdf"
   ]
  },
  {
   "cell_type": "code",
   "execution_count": null,
   "metadata": {},
   "outputs": [],
   "source": [
    "lr.predict(tf.transform([\"very bad experience boyfriend bought spice thing bedroom highly disappointed product bought one absolutely love ky mine thought would similar affect absolutely nothing buy\"]).toarray())"
   ]
  },
  {
   "cell_type": "raw",
   "metadata": {},
   "source": [
    "len(train[train['name'] == 'Planes: Fire Rescue (2 Discs) (includes Digital Copy) (blu-Ray/dvd)'])"
   ]
  },
  {
   "cell_type": "raw",
   "metadata": {},
   "source": [
    "train[train['name'] == 'Planes: Fire Rescue (2 Discs) (includes Digital Copy) (blu-Ray/dvd)']['usersentiment'].values"
   ]
  },
  {
   "cell_type": "code",
   "execution_count": null,
   "metadata": {},
   "outputs": [],
   "source": [
    "sum(train[train['name'] == 'Planes: Fire Rescue (2 Discs) (includes Digital Copy) (blu-Ray/dvd)']['usersentiment'].values)"
   ]
  },
  {
   "cell_type": "code",
   "execution_count": null,
   "metadata": {},
   "outputs": [],
   "source": [
    "sum(train[train['name'] == 'Planes: Fire Rescue (2 Discs) (includes Digital Copy) (blu-Ray/dvd)']['usersentiment'].values)/len(train[train['name'] == 'Planes: Fire Rescue (2 Discs) (includes Digital Copy) (blu-Ray/dvd)'])"
   ]
  },
  {
   "cell_type": "code",
   "execution_count": null,
   "metadata": {},
   "outputs": [],
   "source": [
    "positiverating=[]\n",
    "for i in range(20):\n",
    "   # print(newdf['product'][i])\n",
    "    #newdf['positive_rating'][i]=\n",
    "    positiverating.append(sum(train[train['name'] == newdf['product'][i]]['usersentiment'].values)/len(train[train['name'] == newdf['product'][i]]))"
   ]
  },
  {
   "cell_type": "code",
   "execution_count": null,
   "metadata": {},
   "outputs": [],
   "source": [
    "newdf['positiverating']=positiverating"
   ]
  },
  {
   "cell_type": "code",
   "execution_count": null,
   "metadata": {},
   "outputs": [],
   "source": [
    "newdf"
   ]
  },
  {
   "cell_type": "code",
   "execution_count": null,
   "metadata": {},
   "outputs": [],
   "source": [
    "newdf.sort_values(['positiverating'],ascending=False)"
   ]
  },
  {
   "cell_type": "code",
   "execution_count": null,
   "metadata": {},
   "outputs": [],
   "source": [
    "## Top 5\n",
    "newdf.sort_values(['positiverating'],ascending=False)[:5]"
   ]
  },
  {
   "cell_type": "code",
   "execution_count": null,
   "metadata": {},
   "outputs": [],
   "source": []
  }
 ],
 "metadata": {
  "colab": {
   "collapsed_sections": [],
   "name": "SentimentBasedProductRecommendation.ipynb",
   "provenance": []
  },
  "kernelspec": {
   "display_name": "Python 3",
   "language": "python",
   "name": "python3"
  },
  "language_info": {
   "codemirror_mode": {
    "name": "ipython",
    "version": 3
   },
   "file_extension": ".py",
   "mimetype": "text/x-python",
   "name": "python",
   "nbconvert_exporter": "python",
   "pygments_lexer": "ipython3",
   "version": "3.8.5"
  }
 },
 "nbformat": 4,
 "nbformat_minor": 1
}
