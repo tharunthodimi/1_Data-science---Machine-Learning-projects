{
 "cells": [
  {
   "cell_type": "markdown",
   "metadata": {},
   "source": [
    "# Business Understanding\n",
    "\n",
    "#### The loan providing companies find it hard to give loans to the people due to their insufficient or non-existent credit history. Because of that, some consumers use it as their advantage by becoming a defaulter. Suppose you work for a consumer finance company which specialises in lending various types of loans to urban customers. You have to use EDA to analyse the patterns present in the data. This will ensure that the applicants capable of repaying the loan are not rejected.\n",
    "\n",
    "<img src=image.jfif>\n",
    "\n",
    " \n",
    "\n",
    "#### When the company receives a loan application, the company has to decide for loan approval based on the applicant’s profile. Two types of risks are associated with the bank’s decision:\n",
    "\n",
    "    - If the applicant is likely to repay the loan, then not approving the loan results in a loss of business to the company\n",
    "    - If the applicant is not likely to repay the loan, i.e. he/she is likely to default, then approving the loan may lead   to a financial loss for the company. \n",
    "#### The data given below contains the information about the loan application at the time of applying for the loan. It contains two types of scenarios:\n",
    "\n",
    "    - The client with payment difficulties: he/she had late payment more than X days on at least one of the first Y instalments of the loan in our sample,\n",
    "    - All other cases: All other cases when the payment is paid on time. \n",
    "#### When a client applies for a loan, there are four types of decisions that could be taken by the client/company):\n",
    "\n",
    "    - Approved : The Company has approved loan Application\n",
    "    - Cancelled: The client cancelled the application sometime during approval. Either the client changed her/his mind about the loan or in some cases due to a higher risk of the client he received worse pricing which he did not want.\n",
    "    - Refused: The company had rejected the loan (because the client does not meet their requirements etc.).\n",
    "    - Unused offer:  Loan has been cancelled by the client but on different stages of the process.\n",
    "    - In this case study, we perform EDA to understand how consumer attributes and loan attributes influence the tendency of default."
   ]
  },
  {
   "cell_type": "markdown",
   "metadata": {},
   "source": [
    "## 1. Importing Required Libraries"
   ]
  },
  {
   "cell_type": "code",
   "execution_count": null,
   "metadata": {},
   "outputs": [],
   "source": [
    "#ignore warnings\n",
    "import warnings\n",
    "warnings.filterwarnings('ignore')"
   ]
  },
  {
   "cell_type": "code",
   "execution_count": null,
   "metadata": {},
   "outputs": [],
   "source": [
    "# Import statements of all the required libraries\n",
    "import pandas as pd\n",
    "import numpy as np\n",
    "import matplotlib.pyplot as plt\n",
    "import seaborn as sns\n",
    "%matplotlib inline\n",
    "import random"
   ]
  },
  {
   "cell_type": "markdown",
   "metadata": {},
   "source": [
    "## 2.Reading the applications.csv data \n"
   ]
  },
  {
   "cell_type": "markdown",
   "metadata": {},
   "source": [
    "### 'application_data.csv'  contains all the information of the client at the time of application.The data is about whether a client has payment difficulties. Lets analyse this data and draw patterns in the data"
   ]
  },
  {
   "cell_type": "code",
   "execution_count": null,
   "metadata": {
    "_cell_guid": "6c2d87a6-b548-4879-a133-d0301c4c5c0a",
    "_uuid": "9615591e-24c6-4b48-b1f7-4139744ee04b"
   },
   "outputs": [],
   "source": [
    "#Reading data from application_data.csv \n",
    "data= pd.read_csv(\"application_data.csv\")\n",
    "\n",
    "# Displaying the first 5 rows of data\n",
    "data.head()"
   ]
  },
  {
   "cell_type": "markdown",
   "metadata": {
    "_cell_guid": "8373a6a6-1a51-4c03-bd56-94f9f28cf5f6",
    "_uuid": "b29c23da-1a19-4b77-830e-54aa7c1b404f"
   },
   "source": [
    "# Data Description"
   ]
  },
  {
   "cell_type": "code",
   "execution_count": null,
   "metadata": {
    "_cell_guid": "b44fbf4e-fadf-4578-b158-ff711e50879c",
    "_uuid": "9b862d73-2d5e-499b-82ba-8a7292664fd4"
   },
   "outputs": [],
   "source": [
    "#Displaying the number of rows and columns in the data\n",
    "data.shape"
   ]
  },
  {
   "cell_type": "code",
   "execution_count": null,
   "metadata": {
    "_cell_guid": "406226cf-293c-419f-b90c-883f4cc0efae",
    "_uuid": "4294cc9f-f2f0-4741-a054-75d659087f92"
   },
   "outputs": [],
   "source": [
    "#Displaying data types of all columns\n",
    "data.info()"
   ]
  },
  {
   "cell_type": "code",
   "execution_count": null,
   "metadata": {
    "_cell_guid": "d3f821e9-746e-4206-a6d1-47fe75d00069",
    "_uuid": "9fbcdd89-edd5-4323-90df-5ed6d912e8e2"
   },
   "outputs": [],
   "source": [
    "#Summary of the dataset\n",
    "data.describe()"
   ]
  },
  {
   "cell_type": "markdown",
   "metadata": {},
   "source": [
    "## 3. Inspecting Missing Values"
   ]
  },
  {
   "cell_type": "code",
   "execution_count": null,
   "metadata": {
    "_cell_guid": "832cdb5b-4b9a-478d-b9ca-4de76da5855d",
    "_uuid": "1d0a8d28-dfbd-44aa-a800-440f78b3aadc"
   },
   "outputs": [],
   "source": [
    "# As shown above the column has been removed \n",
    "data.head()"
   ]
  },
  {
   "cell_type": "code",
   "execution_count": null,
   "metadata": {
    "_cell_guid": "0f6d6fd9-9764-494f-92b7-931028868f19",
    "_uuid": "02a66b15-045b-4690-93ef-b590f0738c70"
   },
   "outputs": [],
   "source": [
    "# percentage of null values in each column\n",
    "percentageOfNullValues=data.isnull().sum()/data.shape[0]\n",
    "percentageOfNullValues"
   ]
  },
  {
   "cell_type": "markdown",
   "metadata": {},
   "source": [
    "## 4.Handling Missing Values"
   ]
  },
  {
   "cell_type": "code",
   "execution_count": null,
   "metadata": {
    "_cell_guid": "0d693cdb-003c-40c0-bf45-d98dc8761068",
    "_uuid": "d6b7555d-8abd-445e-b039-604600a18e89"
   },
   "outputs": [],
   "source": [
    "#Verifying the count of columns which has more than 30 perent of null values in it \n",
    "percentageOfNullValues[percentageOfNullValues>0.30].count()"
   ]
  },
  {
   "cell_type": "markdown",
   "metadata": {},
   "source": [
    "## From the above step we could see that 50 columns in appplication data have more than 30 percent null vlaues in it. Considering this may result in biasing.So Continuing our analysis ignoring/Dropping them"
   ]
  },
  {
   "cell_type": "code",
   "execution_count": null,
   "metadata": {
    "_cell_guid": "fc393bba-f903-4010-ba6d-606e6c6aa53c",
    "_uuid": "fa997968-dbf4-4fe7-93a2-33f4a64df524"
   },
   "outputs": [],
   "source": [
    "# Count of columns Containing the null value percentage less than 30\n",
    "percentageOfNullValues[percentageOfNullValues<0.30].count()"
   ]
  },
  {
   "cell_type": "markdown",
   "metadata": {},
   "source": [
    "# Lets consider only columns where count of nan values is less than 30 percent"
   ]
  },
  {
   "cell_type": "code",
   "execution_count": null,
   "metadata": {
    "_cell_guid": "8b03def3-392a-4e2b-94f1-6e1bb69cfebe",
    "_uuid": "bf01ac40-909b-4dc9-a6c9-30160c8520b8"
   },
   "outputs": [],
   "source": [
    "data=data[percentageOfNullValues[percentageOfNullValues<0.30].index]\n",
    "data.head()"
   ]
  },
  {
   "cell_type": "code",
   "execution_count": null,
   "metadata": {
    "_cell_guid": "08988530-8851-455e-ba2a-d961a3335523",
    "_uuid": "66a74f80-fbe3-4f83-9d1d-79707d6eef13"
   },
   "outputs": [],
   "source": [
    "# Verifying the shape of the dataframe after removing the columns where columns contains more than 30 percent of null values in it\n",
    "data.shape"
   ]
  },
  {
   "cell_type": "markdown",
   "metadata": {
    "_cell_guid": "ce7b25b4-c816-4fb9-b583-99648386127e",
    "_uuid": "ba0f0414-4684-4337-8cc5-1dee9bb31b30"
   },
   "source": [
    "# As we can see now the data set is free of null values where percentage of null values in a cloumn is more than 30 percent"
   ]
  },
  {
   "cell_type": "code",
   "execution_count": null,
   "metadata": {},
   "outputs": [],
   "source": [
    "data.info()"
   ]
  },
  {
   "cell_type": "markdown",
   "metadata": {},
   "source": [
    "# 5.Datatype Handling"
   ]
  },
  {
   "cell_type": "code",
   "execution_count": null,
   "metadata": {},
   "outputs": [],
   "source": [
    "#changing negative ages to positive ages for further anslysis\n",
    "data['DAYS_BIRTH']=abs(data['DAYS_BIRTH'])\n",
    "data['DAYS_BIRTH'].describe()"
   ]
  },
  {
   "cell_type": "code",
   "execution_count": null,
   "metadata": {},
   "outputs": [],
   "source": [
    "#changing negative values in days to positive days for further anlysis\n",
    "data['DAYS_EMPLOYED']=abs(data['DAYS_EMPLOYED'])\n",
    "data['DAYS_EMPLOYED'].describe()"
   ]
  },
  {
   "cell_type": "code",
   "execution_count": null,
   "metadata": {},
   "outputs": [],
   "source": [
    "#changing negative days to positive days for further analysis\n",
    "data['DAYS_REGISTRATION']=abs(data['DAYS_REGISTRATION'])\n",
    "data['DAYS_REGISTRATION'].describe()"
   ]
  },
  {
   "cell_type": "code",
   "execution_count": null,
   "metadata": {},
   "outputs": [],
   "source": [
    "#changing negative days to positive for further analysis\n",
    "data['DAYS_ID_PUBLISH']=abs(data['DAYS_ID_PUBLISH'])\n",
    "data['DAYS_ID_PUBLISH'].describe()"
   ]
  },
  {
   "cell_type": "code",
   "execution_count": null,
   "metadata": {},
   "outputs": [],
   "source": [
    "#converting the data type of given categorical column\n",
    "data['REG_REGION_NOT_LIVE_REGION'] = data['REG_REGION_NOT_LIVE_REGION'].astype(object)\n",
    "data.dtypes"
   ]
  },
  {
   "cell_type": "code",
   "execution_count": null,
   "metadata": {},
   "outputs": [],
   "source": [
    "#Changing region daatype\n",
    "data['REG_REGION_NOT_WORK_REGION'] = data['REG_REGION_NOT_WORK_REGION'].astype(object)"
   ]
  },
  {
   "cell_type": "code",
   "execution_count": null,
   "metadata": {},
   "outputs": [],
   "source": [
    "#Changing region datatype\n",
    "data['LIVE_REGION_NOT_WORK_REGION'] = data['LIVE_REGION_NOT_WORK_REGION'].astype(object)"
   ]
  },
  {
   "cell_type": "code",
   "execution_count": null,
   "metadata": {},
   "outputs": [],
   "source": [
    "#Changing city datatype\n",
    "data['REG_CITY_NOT_LIVE_CITY'] = data['REG_CITY_NOT_LIVE_CITY'].astype(object)"
   ]
  },
  {
   "cell_type": "code",
   "execution_count": null,
   "metadata": {},
   "outputs": [],
   "source": [
    "#Changing city datatype\n",
    "data['REG_CITY_NOT_WORK_CITY'] = data['REG_CITY_NOT_WORK_CITY'].astype(object)"
   ]
  },
  {
   "cell_type": "code",
   "execution_count": null,
   "metadata": {},
   "outputs": [],
   "source": [
    "#Changing city datatype\n",
    "data['LIVE_CITY_NOT_WORK_CITY']=data['LIVE_CITY_NOT_WORK_CITY'].astype(object)"
   ]
  },
  {
   "cell_type": "code",
   "execution_count": null,
   "metadata": {},
   "outputs": [],
   "source": [
    "data.head()"
   ]
  },
  {
   "cell_type": "markdown",
   "metadata": {
    "_cell_guid": "f1ae2d98-fdbe-43b2-9e3b-7ff3b5a9bb02",
    "_uuid": "be2d2915-7543-4d37-aada-2e7496003a91"
   },
   "source": [
    "# Target:\n",
    "\n",
    "## Analysing the Target Column and verifying that target doesn't contain any nan values in it\n",
    "\n",
    "- 1: Payment difficulties\n",
    "\n",
    "- 0: Other case\n",
    "\n",
    "- Target variable (1 - client with payment difficulties: he/she had late payment more than X days on at least one of the first Y installments of the loan in our sample, 0 - all other cases)"
   ]
  },
  {
   "cell_type": "code",
   "execution_count": null,
   "metadata": {
    "_cell_guid": "5873bec2-dc03-47a3-8d1b-e87850cd0720",
    "_uuid": "d8c679af-52d2-47e7-809a-015a20474c11"
   },
   "outputs": [],
   "source": [
    "data['TARGET'].value_counts()"
   ]
  },
  {
   "cell_type": "code",
   "execution_count": null,
   "metadata": {
    "_cell_guid": "4f790ca4-dffe-4272-bded-0afa7106ebbb",
    "_uuid": "5d4497ef-a821-4377-8584-7e672bfccce1"
   },
   "outputs": [],
   "source": [
    "print(\"Percentage of people with other than Payment difficulties 0's\",data['TARGET'].value_counts()[0]/data.shape[0])\n",
    "print(\"Percentage of people with payment difficulties 1's: \",data['TARGET'].value_counts()[1]/data.shape[0])"
   ]
  },
  {
   "cell_type": "code",
   "execution_count": null,
   "metadata": {
    "_cell_guid": "35b70277-2c3d-4603-a6c4-04db9b4f2bc0",
    "_uuid": "5b364a50-fe11-4f35-bc66-867fb012c231"
   },
   "outputs": [],
   "source": [
    "data['TARGET'].value_counts(normalize=True).plot(kind='bar')"
   ]
  },
  {
   "cell_type": "markdown",
   "metadata": {},
   "source": [
    "# Insights:\n",
    "\n",
    "## Observations on column `TARGET` from applictaion_data is:\n",
    "\n",
    "- Customers falling under Category: 1`(Defaulters/Having payment difficulties)` is about 8 percent\n",
    "\n",
    "- Customers falling under Category : 0`(Non-Defaulters)` is about 92 percent"
   ]
  },
  {
   "cell_type": "markdown",
   "metadata": {
    "_cell_guid": "dabded1c-6f05-4a4f-9a08-a5b714fd0aac",
    "_uuid": "7f4dcb0c-8fb2-49d6-bd50-737a527f1315"
   },
   "source": [
    "# [](http://)![](http://)# 6.Univariate Analysis"
   ]
  },
  {
   "cell_type": "markdown",
   "metadata": {
    "_cell_guid": "0c4c975a-7001-4ec5-9339-66734a9b89e3",
    "_uuid": "317d88ce-b6cf-41cc-93c9-969980f17059"
   },
   "source": [
    "# Categorical Unordered univariate analysis"
   ]
  },
  {
   "cell_type": "code",
   "execution_count": null,
   "metadata": {
    "_cell_guid": "f1259741-0a8f-4686-ac6d-32d3ee5260ea",
    "_uuid": "6c6badf5-d6b5-43e2-bed9-4fbbe24134d7"
   },
   "outputs": [],
   "source": [
    "# df0 represents target==0 which means customers belonging to non-defaulters\n",
    "\n",
    "# df1 represents target ==1 which means customers belonging to defaulters/having payment difficulties\n",
    "\n",
    "df0=data[data['TARGET']==0]\n",
    "df1=data[data['TARGET']==1]"
   ]
  },
  {
   "cell_type": "markdown",
   "metadata": {
    "_cell_guid": "fbffec84-b208-4c48-8654-18b8187f49e7",
    "_uuid": "0f96813f-b603-4bc1-b530-eb1949ea9172"
   },
   "source": [
    "# Since our output column(target) is having 0 and 1 we created df0 and df1 to represnt binary classification"
   ]
  },
  {
   "cell_type": "code",
   "execution_count": null,
   "metadata": {
    "_cell_guid": "8754603f-1985-455b-a42a-e50e58079dc6",
    "_uuid": "0080bbb5-cd30-48b5-a29c-696623ca90fb"
   },
   "outputs": [],
   "source": [
    "#Creation of univariate analysis(univ_anal) Method which is reusable, And helps us in performing further analysis with less lines of code\n",
    "\n",
    "def univ_anal(variable_analysis):\n",
    "    plt.figure(figsize=(15,5))\n",
    "    plt.subplot(1,2,1)\n",
    "    plt.title('Distribution for Non-Defaulter on '+variable_analysis,fontdict={'fontsize':13})\n",
    "    sns.countplot(df0[variable_analysis])   #seaborn for more advanced colors\n",
    "    plt.xticks(rotation=90)\n",
    "    plt.subplot(1,2,2)\n",
    "    plt.title('Distribution for Defaulter on '+variable_analysis,fontdict={'fontsize':13})\n",
    "    sns.countplot(df1[variable_analysis])\n",
    "    plt.xticks(rotation=90)"
   ]
  },
  {
   "cell_type": "code",
   "execution_count": null,
   "metadata": {
    "_cell_guid": "634cdd59-7d3e-4e47-81ee-0cc710f9dda2",
    "_uuid": "cce48c01-4718-4fdb-a854-59eef9950e2f"
   },
   "outputs": [],
   "source": [
    "#Distribution for Non-Defaulter and Defaulter on NAME_CONTRACT_TYPE\n",
    "univ_anal('NAME_CONTRACT_TYPE')"
   ]
  },
  {
   "cell_type": "code",
   "execution_count": null,
   "metadata": {
    "_cell_guid": "ff37aba7-936f-41e9-b4eb-9885b41855d0",
    "_uuid": "026d0587-0b91-4d9f-be5d-ef3ef397d1dc"
   },
   "outputs": [],
   "source": [
    "#Distribution for Non-Defaulter and Defaulter on NAME_FAMILY_STATUS\n",
    "\n",
    "univ_anal('NAME_FAMILY_STATUS')"
   ]
  },
  {
   "cell_type": "markdown",
   "metadata": {},
   "source": [
    "# Insights:\n",
    " \n",
    "-  Proportion of Married customers falling in default category is high when compared with all other categories,This can be due to higher rate of customers taking the loan from this category\n",
    "-  Single/Not married category has higher proportion count falling under default when compared with non-default count"
   ]
  },
  {
   "cell_type": "code",
   "execution_count": null,
   "metadata": {},
   "outputs": [],
   "source": [
    "plt.figure(figsize=(8,5))\n",
    "plt.title('Distribution of Male versus Female in the data',fontdict={'fontsize':17})\n",
    "sns.countplot(data.CODE_GENDER) \n",
    "plt.show()"
   ]
  },
  {
   "cell_type": "code",
   "execution_count": null,
   "metadata": {
    "_cell_guid": "c7a947a9-15c3-4063-9869-6eb22345f0bb",
    "_uuid": "a143a062-4585-4e5b-91b7-ce21c86dc015"
   },
   "outputs": [],
   "source": [
    "#Distribution for Non-Defaulter and Defaulter on CODE_GENDER\n",
    "univ_anal('CODE_GENDER')"
   ]
  },
  {
   "cell_type": "markdown",
   "metadata": {},
   "source": [
    "# Insights:\n",
    "\n",
    "- From the above two plots we could observe that Female catgeory in the dataset is twice as male category.In results to that we have above graph mentioning that in defaulter and non-defaulter Female category has a high count.Further analysis is done under bivariate anlysis to infer results from *`GENDER`* category."
   ]
  },
  {
   "cell_type": "code",
   "execution_count": null,
   "metadata": {
    "_cell_guid": "badf5571-c241-4415-98e3-fdc85ac894ed",
    "_uuid": "d5e1a71a-f138-4dc9-840f-a6b2dd8ff82f"
   },
   "outputs": [],
   "source": [
    "#Distribution for Non-Defaulter and Defaulter on NAME_HOUSING_TYPE\n",
    "\n",
    "univ_anal('NAME_HOUSING_TYPE')"
   ]
  },
  {
   "cell_type": "markdown",
   "metadata": {},
   "source": [
    "# Insights:\n",
    "\n",
    "- `House/Apartments` category has a highest category of customers walking into bank for loans\n",
    "- `Rental apartment` category has more defaulters than non-defaulters,its a clear insight in the real world that there monthly expenses are going with house rents and which may lead to fall in defaulters list,This needs to be considered while giving loans\n",
    "- If we observe the scale of the plots even `with parents` category has higher chances in falling under default category\n",
    "- `House/Apartments` category has lot of defaulters its almost 8-10% when compared with the non-defaulters count"
   ]
  },
  {
   "cell_type": "code",
   "execution_count": null,
   "metadata": {
    "_cell_guid": "03e33a5e-0222-4cd2-929d-8b5655e64874",
    "_uuid": "b4789e1d-eb75-4f62-ae0e-c0c27b83eceb"
   },
   "outputs": [],
   "source": [
    "#Distribution for Non-Defaulter and Defaulter on NAME_INCOME_TYPE\n",
    "\n",
    "univ_anal('NAME_INCOME_TYPE')"
   ]
  },
  {
   "cell_type": "markdown",
   "metadata": {},
   "source": [
    "# Insights:\n",
    "\n",
    "- The data implies almost same behavior with all the categories with respect to defaulters and Non-defaulters\n",
    "- On Concentrated observation we could see that percentage of Pensioner being in default is less when compared with other categories.So bank can concentrate in this category to generate profits by taking certain steps like reducing loan amount "
   ]
  },
  {
   "cell_type": "code",
   "execution_count": null,
   "metadata": {},
   "outputs": [],
   "source": [
    "#Distribution for Non-Defaulter and Defaulter on ORGANISATION_TYPE\n",
    "\n",
    "plt.figure(figsize=(30,5))\n",
    "plt.subplot(1,2,1)\n",
    "plt.title('Distribution for Non-Defaulter on ORGANISATION_TYPE',fontdict={'fontsize':13})\n",
    "sns.countplot(df0['ORGANIZATION_TYPE'])   #seaborn for more advanced colors\n",
    "plt.xticks(rotation=90)\n",
    "plt.subplot(1,2,2)\n",
    "plt.title('Distribution for Defaulter on ORGANISATION_TYPE',fontdict={'fontsize':13})\n",
    "sns.countplot(df1['ORGANIZATION_TYPE'])\n",
    "plt.xticks(rotation=90)\n",
    "plt.show()"
   ]
  },
  {
   "cell_type": "markdown",
   "metadata": {},
   "source": [
    "# Insights:\n",
    "\n",
    "- We cold observe that most of the categories is having 10 percent defualters when compared with non-defaulters.\n",
    "- `Business Entity Type3` and `self-employed` has higher percentage of defaulter count\n",
    "- `Business Entity Type 1` has more defaulter count when compared with overall percentage of that category"
   ]
  },
  {
   "cell_type": "code",
   "execution_count": null,
   "metadata": {
    "_cell_guid": "730c2392-f70e-4f7b-bba3-71d79bb4fbe6",
    "_uuid": "fc854f34-00a7-40b7-ae47-4f093beb8745"
   },
   "outputs": [],
   "source": [
    "#Distribution for Non-Defaulter and Defaulter on NAME_TYPE_SUITE\n",
    "univ_anal('NAME_TYPE_SUITE')"
   ]
  },
  {
   "cell_type": "markdown",
   "metadata": {},
   "source": [
    "# Insights:\n",
    "\n",
    "- `NAME_TYPE_SUITE` tells about person acompnying while applying for the loan and we could observe there is almost similar relation in both defaulter and Non-defaulter category.\n",
    "- We can use this varibale for further anlysis in bivariate to inccur if this variable is having any strong correlation with other variables in a dataset"
   ]
  },
  {
   "cell_type": "markdown",
   "metadata": {
    "_cell_guid": "117b8e88-fbda-495e-b7a6-716ee341e007",
    "_uuid": "3bd6f31a-2d68-45f0-bd63-d68cc850f002"
   },
   "source": [
    "# Categorical Ordered univariate analysis"
   ]
  },
  {
   "cell_type": "code",
   "execution_count": null,
   "metadata": {
    "_cell_guid": "be2b83fc-6ec7-4e53-b733-2a29785b8ca7",
    "_uuid": "bfb2fe77-d8cd-41a4-9f2d-f85fefc36597"
   },
   "outputs": [],
   "source": [
    "univ_anal('WEEKDAY_APPR_PROCESS_START')"
   ]
  },
  {
   "cell_type": "markdown",
   "metadata": {},
   "source": [
    "# Insights:\n",
    "\n",
    "- Day on which loan has been processed doesn't really imply the outcome/Target"
   ]
  },
  {
   "cell_type": "code",
   "execution_count": null,
   "metadata": {
    "_cell_guid": "64ef3d5c-a62b-4ab0-a13a-d05fb337f480",
    "_uuid": "d374ea24-fa31-480f-9da8-cae057c0b8e0"
   },
   "outputs": [],
   "source": [
    "#Distribution for Non-Defaulter and Defaulter on NAME_EDUCATION_TYPE\n",
    "\n",
    "univ_anal('NAME_EDUCATION_TYPE')"
   ]
  },
  {
   "cell_type": "markdown",
   "metadata": {},
   "source": [
    "# Insights:\n",
    "\n",
    "- Academic degree looks more profitable for banks since the Defaulter percentage is very less in this category when compared with other categories.\n",
    "- As the education level increases the Defaulters count is decreasing, This is quite realistic that customers might have settled with certain jobs and able to Repay the loans.\n",
    "- Higher eduaction clearly implies less Defaulters to the bank. So bank can concentrate on giving loans accordingly."
   ]
  },
  {
   "cell_type": "markdown",
   "metadata": {
    "_cell_guid": "653004b6-021c-47f1-bef4-986eace7acf9",
    "_uuid": "01ea73b7-ba15-414d-8e49-6f8f42884bc9"
   },
   "source": [
    "# 7.Bivariate Analyssis\n",
    "\n",
    "## Numeric - Numeric analysis\n",
    "\n",
    "- There are three ways to analyse the *`numeric- numeric`* data types simultaneously.\n",
    "- **Scatter plot**: describes the pattern that how one variable is varying with other variable.\n",
    "- **Correlation matrix**: to describe the linearity of two numeric variables.\n",
    "- **Pair plot**: group of scatter plots of all numeric variables in the data frame."
   ]
  },
  {
   "cell_type": "code",
   "execution_count": null,
   "metadata": {
    "_cell_guid": "44d3d5e6-eee0-46a9-857c-700259d2d45f",
    "_uuid": "790a0974-7dfd-423c-970a-b071c777a878"
   },
   "outputs": [],
   "source": [
    "def multi_anal(groupby_var,target):  #multi-varibale analysis resusable method\n",
    "    plt.figure(figsize=(13,5))\n",
    "    plt.subplot(1,2,1)\n",
    "    plt.title('Distribution of Non-Defaulter Category\\n'+' V/S '+groupby_var)\n",
    "    sns.countplot(x=groupby_var,hue=target,data=df0)\n",
    "    plt.xticks(rotation=90)\n",
    "    plt.subplot(1,2,2)\n",
    "    plt.title('Distribution of Defaulter Category\\n'+' V/S '+groupby_var)\n",
    "    sns.countplot(x=groupby_var,hue=target,data=df1)\n",
    "    plt.xticks(rotation=90)\n",
    "    plt.show()"
   ]
  },
  {
   "cell_type": "code",
   "execution_count": null,
   "metadata": {
    "_cell_guid": "a8880aae-2d6b-4269-813b-8281c4e960be",
    "_uuid": "d907e2e7-48eb-4e04-a445-fa341b037663"
   },
   "outputs": [],
   "source": [
    "def multivaranal_scatter(x,y):\n",
    "    plt.figure(figsize=(15,5))\n",
    "    plt.subplot(1,2,1)\n",
    "    plt.title(\"NO payment Difficulties\")\n",
    "    plt.xlabel(x)\n",
    "    plt.ylabel(y)\n",
    "    plt.scatter(x,y,data=df0)\n",
    "    plt.subplot(1,2,2)\n",
    "    plt.title(\"Defaulter/Payment Difficulties\")\n",
    "    plt.xlabel(x)\n",
    "    plt.ylabel(y)\n",
    "    plt.scatter(x,y,data=df1)\n",
    "    plt.show()"
   ]
  },
  {
   "cell_type": "code",
   "execution_count": null,
   "metadata": {
    "_cell_guid": "8c2011f4-8cf2-4455-95c5-34103c285739",
    "_uuid": "8de405ba-fccd-4de2-a8a3-ae3fc89287c1"
   },
   "outputs": [],
   "source": [
    "multivaranal_scatter('AMT_CREDIT','AMT_ANNUITY')"
   ]
  },
  {
   "cell_type": "markdown",
   "metadata": {
    "_cell_guid": "cebe0b71-5106-4320-a2a2-990cc64fcca1",
    "_uuid": "c5efaf7f-933a-4bb6-a407-f70ee779f4ee"
   },
   "source": [
    "# Insights:\n",
    "\n",
    "- We could easily observe thatCredit amount of the loan is linearly related with Amt_annuity"
   ]
  },
  {
   "cell_type": "code",
   "execution_count": null,
   "metadata": {
    "_cell_guid": "008ed44d-68be-4b04-95dc-309a637ef4ed",
    "_uuid": "f2a33fd1-15d7-41b9-a871-1329e017b50c"
   },
   "outputs": [],
   "source": [
    "multivaranal_scatter('OBS_30_CNT_SOCIAL_CIRCLE','OBS_60_CNT_SOCIAL_CIRCLE')"
   ]
  },
  {
   "cell_type": "markdown",
   "metadata": {},
   "source": [
    "# Insgihts:\n",
    "\n",
    "- we could observe that `OBS_30_CNT_SOCIAL_CIRCLE` and `OBS_60_CNT_SOCIAL_CIRCLE` are linearly related"
   ]
  },
  {
   "cell_type": "code",
   "execution_count": null,
   "metadata": {
    "_cell_guid": "9180fa06-92be-4395-8190-d235c454d5a5",
    "_uuid": "3d170b47-7e93-4afa-917c-f17f72301a8f"
   },
   "outputs": [],
   "source": [
    "multivaranal_scatter('AMT_ANNUITY','AMT_GOODS_PRICE')"
   ]
  },
  {
   "cell_type": "markdown",
   "metadata": {},
   "source": [
    "# Insights:\n",
    "\n",
    "- This is quite Obvious that sum of Amount_ANNUITY(Term repayments) is equal to the loan amount and our plot depicts the same\n",
    "- when both plots scales are compared it says that the `AMT_ANNUITY` scale is less than 140000,when compared with No payment difficulties it says that the higher amount installments dont have much much defaulters which is one way profit to the bank with regular payments from customers"
   ]
  },
  {
   "cell_type": "code",
   "execution_count": null,
   "metadata": {
    "_cell_guid": "a2b39aaf-a62d-433b-82d5-07021a938202",
    "_uuid": "c1b9ba79-5664-4432-923c-f0b64064907f"
   },
   "outputs": [],
   "source": [
    "multivaranal_scatter('AMT_GOODS_PRICE','AMT_CREDIT')"
   ]
  },
  {
   "cell_type": "markdown",
   "metadata": {},
   "source": [
    "# Insights:\n",
    "\n",
    "- `AMT_GOODS_PRICE` AND `AMT_CREDIT` are almost linearly related\n",
    "- As observed from defaulters list there are some customers under defaulter category at higher goodsprice. Its better to analyse other varibales and reduce the oan amount to such customers to reduce the loss to the bank"
   ]
  },
  {
   "cell_type": "markdown",
   "metadata": {
    "_cell_guid": "33765204-1865-41dd-b057-d12b54f24b62",
    "_uuid": "abbce458-4ef6-4dce-91b4-439c0bc27d14"
   },
   "source": [
    "# Numeric - Categorical\n"
   ]
  },
  {
   "cell_type": "markdown",
   "metadata": {
    "_cell_guid": "0de3b1e4-01bf-40ee-993c-291b8a819a50",
    "_uuid": "ad6779e1-ffb1-4c9a-9037-ef057edd7cf9"
   },
   "source": [
    "## `In our datasheet Target is categorical, Lets Compare this with other numeric values in dataset`"
   ]
  },
  {
   "cell_type": "code",
   "execution_count": null,
   "metadata": {
    "_cell_guid": "33f5c770-c3b3-477b-9a89-b3105afcbd9f",
    "_uuid": "d2d45236-3d1e-4342-aab1-1f6ea0493d35"
   },
   "outputs": [],
   "source": [
    "sns.boxplot(x='TARGET',y='DAYS_BIRTH',data=data)"
   ]
  },
  {
   "cell_type": "markdown",
   "metadata": {
    "_cell_guid": "7131dbf4-a735-4d69-a194-50eaf070f0e8",
    "_uuid": "9380ec0b-c90b-4147-8c15-60cafc1edc0b"
   },
   "source": [
    "# Insights:\n",
    "\n",
    "- As we can see that Younger age group has more Payment difficulties when compared with older age group\n",
    "- We can also observe thatAge group greater than 47(17500/365) has very less payment difficulties"
   ]
  },
  {
   "cell_type": "code",
   "execution_count": null,
   "metadata": {
    "_cell_guid": "004ae9ee-e29b-495d-a17a-7f165b89f12a",
    "_uuid": "e52e8436-9e0d-48ee-94f2-383cedc33cf5"
   },
   "outputs": [],
   "source": [
    "sns.boxplot(x='TARGET',y='AMT_ANNUITY',data=data)"
   ]
  },
  {
   "cell_type": "markdown",
   "metadata": {},
   "source": [
    "# Insights:\n",
    "\n",
    "- `AMT_ANNUITY` tells us about the series of payments made by the customer, We could observe that Higher installments are getting paid on time as we can see higher Annuity payments fall under non-defaulter's list\n"
   ]
  },
  {
   "cell_type": "code",
   "execution_count": null,
   "metadata": {
    "_cell_guid": "0d9910e5-0c51-414b-aa1a-55bcaa8475db",
    "_uuid": "ab1ae72d-abae-4d43-ad25-d3815daea322"
   },
   "outputs": [],
   "source": [
    "data.groupby('TARGET')['DAYS_EMPLOYED'].mean().plot(kind='bar')"
   ]
  },
  {
   "cell_type": "markdown",
   "metadata": {},
   "source": [
    "# Insights:\n",
    "\n",
    "- As observed from the Plot we could see that the Customer working in the company for longer duration of time has less chance of falling under defaulter,Which can be considered while giving loan"
   ]
  },
  {
   "cell_type": "markdown",
   "metadata": {
    "_cell_guid": "c905fb4d-7439-40d2-b8a7-37deda306c67",
    "_uuid": "169d2621-14ec-4bf5-b1d8-5cdfd9071bbb"
   },
   "source": [
    "# EXPLANATION\n",
    "\n",
    "- AMT_INCOME_TOTAL: tOTAL INCOME OF THE CLIENT\n",
    "- AMT_CREDIT : CREDIT AMOUNT OF THE LOAN\n",
    "- AMT_ANNUITY: SERIES OF EQUAL AMOUNTS PAID\n",
    "- AMT_GOODSPRICE: For consumer loans it is the price of the goods for which the loan is given"
   ]
  },
  {
   "cell_type": "code",
   "execution_count": null,
   "metadata": {
    "_cell_guid": "7423f3f0-05e8-45c7-96ae-d0576c06ed61",
    "_uuid": "5ed450d0-75db-4252-9856-f31570d38db7"
   },
   "outputs": [],
   "source": [
    "sns.boxplot('TARGET','AMT_GOODS_PRICE',data=data)"
   ]
  },
  {
   "cell_type": "markdown",
   "metadata": {},
   "source": [
    "# Insights:\n",
    "\n",
    "- AMT_GOODS_PRICE  tells us about the price of goods for which amount of loan is given by bank, We could observe that Higher Goods price for which loan was given is under non-default category(0) which is profit for bank.\n",
    "- Plot2 shows that there are huge set of customers who fall under Non-defaulter category, Where bank is giving loans for higher amount of Goods.This should be taken care to make profits."
   ]
  },
  {
   "cell_type": "code",
   "execution_count": null,
   "metadata": {
    "_cell_guid": "c6e4d6a1-539b-4866-8c8d-d7803e4184aa",
    "_uuid": "98b451bf-610c-48e0-8208-dfbedc44b11c"
   },
   "outputs": [],
   "source": [
    "sns.boxplot('TARGET','CNT_FAM_MEMBERS',data=data)"
   ]
  },
  {
   "cell_type": "markdown",
   "metadata": {},
   "source": [
    "# Insights:\n",
    "\n",
    "- From the above plot we could see that increase in count of family members doesn'r really impact the final target variable\n",
    "- But further analysis can be made on this in mutivariate analysis."
   ]
  },
  {
   "cell_type": "code",
   "execution_count": null,
   "metadata": {
    "_cell_guid": "ac5328b2-4fe7-4e4c-b3bb-ae8f397ecd3d",
    "_uuid": "edf10bd0-32eb-4404-82dc-8ecb0a28db97"
   },
   "outputs": [],
   "source": [
    "\n",
    "sns.boxplot('TARGET','HOUR_APPR_PROCESS_START',data=data)"
   ]
  },
  {
   "cell_type": "markdown",
   "metadata": {},
   "source": [
    "# Insisghts:\n",
    "\n",
    "- As observed from the above plot `HOUR_APPR_PROCESS_START` doesn't make much difference in defaulters and Non-defaulters. "
   ]
  },
  {
   "cell_type": "code",
   "execution_count": null,
   "metadata": {
    "_cell_guid": "1cc79411-5e68-4487-bd8d-6a7b26f1c4e8",
    "_uuid": "598ddb89-ca47-4301-8b8d-78b981a4ad71"
   },
   "outputs": [],
   "source": [
    "\n",
    "sns.boxplot('TARGET','DAYS_LAST_PHONE_CHANGE',data=data)"
   ]
  },
  {
   "cell_type": "markdown",
   "metadata": {
    "_cell_guid": "f8912665-33f8-4218-b793-3722009720b3",
    "_uuid": "a480d098-5f7a-4e19-910e-37883664c977"
   },
   "source": [
    "# Insights:\n",
    "\n",
    "- In defaulter list we could see that there is a change in the *`phoneNumber`* in the recent days, Even 75th percentile is close to the loan processing day.So we may consider this for further analysis to gain more insights out of it"
   ]
  },
  {
   "cell_type": "code",
   "execution_count": null,
   "metadata": {
    "_cell_guid": "d91e2a92-62a4-4584-97d0-e829bfe0289c",
    "_uuid": "c9564e13-d8a2-4466-ab63-fb6ed4a89aa0"
   },
   "outputs": [],
   "source": [
    "sns.boxplot('TARGET','AMT_ANNUITY',data=data)"
   ]
  },
  {
   "cell_type": "code",
   "execution_count": null,
   "metadata": {},
   "outputs": [],
   "source": [
    "df1.AMT_ANNUITY.describe()"
   ]
  },
  {
   "cell_type": "markdown",
   "metadata": {},
   "source": [
    "# Insights:\n",
    "\n",
    "- `AMT_ANNUITY` is the series of amount paid at equal intervals.The plot depicts that defaulters are more when the AMT_ANNUITY is less than 149211.\n"
   ]
  },
  {
   "cell_type": "markdown",
   "metadata": {
    "_cell_guid": "95578790-4d87-4ef5-96aa-98aa23fdd178",
    "_uuid": "01e4634f-112e-4153-90b5-006e744da56c"
   },
   "source": [
    "# Categorical vs Categorical"
   ]
  },
  {
   "cell_type": "code",
   "execution_count": null,
   "metadata": {
    "_cell_guid": "b8170a7a-a33a-48eb-9779-3792fe8fc4ed",
    "_uuid": "f3a44875-ad32-4ceb-8d99-f6322315d4a4"
   },
   "outputs": [],
   "source": [
    "def multi_anal(groupby_var,target):  #multi-varibale analysis resusable method\n",
    "    plt.figure(figsize=(13,5))\n",
    "    plt.subplot(1,2,1)\n",
    "    plt.title('Distribution of Non-Defaulter Category\\n'+' V/S '+groupby_var)\n",
    "    sns.countplot(x=groupby_var,hue=target,data=df0)\n",
    "    plt.xticks(rotation=90)\n",
    "    plt.subplot(1,2,2)\n",
    "    plt.title('Distribution of Defaulter Category\\n'+' V/S '+groupby_var)\n",
    "    sns.countplot(x=groupby_var,hue=target,data=df1)\n",
    "    plt.xticks(rotation=90)"
   ]
  },
  {
   "cell_type": "code",
   "execution_count": null,
   "metadata": {
    "_cell_guid": "f0f52404-023d-4d99-99b5-0a6636f48f7a",
    "_uuid": "fc58bd7d-dea0-4bac-9061-191a55fb3313"
   },
   "outputs": [],
   "source": [
    "\n",
    "multi_anal('NAME_INCOME_TYPE','TARGET')"
   ]
  },
  {
   "cell_type": "markdown",
   "metadata": {
    "_cell_guid": "882661cb-02c6-49c5-8f0a-0902d550db17",
    "_uuid": "7dcda540-a022-43df-ad79-4fa4cf253f9d"
   },
   "source": [
    "# Insights:\n",
    "\n",
    "- We can understand from the above plot that pensioner people are better for Bank and we can provide loans to them in a safer manner when compared with other categories\n",
    "- State Servent,Commercial Assocaite follows the next category of low risk followed by pensioner category\n",
    "\n",
    "- Unemployed and Maternity leave Category stands high in becoming a defaulter"
   ]
  },
  {
   "cell_type": "code",
   "execution_count": null,
   "metadata": {
    "_cell_guid": "f61171ef-5cfc-4faf-ad44-382dc0b552e2",
    "_uuid": "f5804f30-cf6b-4cb6-970a-a62f719b27bc"
   },
   "outputs": [],
   "source": [
    "multi_anal('FLAG_OWN_CAR','TARGET')"
   ]
  },
  {
   "cell_type": "markdown",
   "metadata": {},
   "source": [
    "# Insights:\n",
    "\n",
    "- As observed percentage of customers owning a car and not owning a car is almost half, Which is quite realistic.\n",
    "\n",
    "## Customer Owning a car:\n",
    "\n",
    "- Percentage of customer owning a car and falling in defaulters is quite less but doesn't imply drastic difference."
   ]
  },
  {
   "cell_type": "code",
   "execution_count": null,
   "metadata": {
    "_cell_guid": "007f45ff-3749-4297-b8ae-c122d77d4371",
    "_uuid": "9b53af75-c710-4bfa-a621-4da629329905"
   },
   "outputs": [],
   "source": [
    "multi_anal('NAME_EDUCATION_TYPE','TARGET')"
   ]
  },
  {
   "cell_type": "markdown",
   "metadata": {
    "_cell_guid": "210943b1-ebb7-4d70-aabe-105f89c18537",
    "_uuid": "83711067-bc08-4f77-90f2-0eb4542b55ba"
   },
   "source": [
    "# Insights:\n",
    "\n",
    "- Graph Clearly replicates that Acamedic degree candidates are less chance to be in defaulter list,Which is profit for company\n",
    "- Minimal education level clearly implies that there is a chance of loss incurring lossed from those category of people"
   ]
  },
  {
   "cell_type": "code",
   "execution_count": null,
   "metadata": {
    "_cell_guid": "55e44990-7e68-41b0-90e8-08d9651c6555",
    "_uuid": "e7c0dbe9-2290-4bd7-9e1e-fd16fbd86894"
   },
   "outputs": [],
   "source": [
    "plt.figure(figsize=(25,5))\n",
    "data.groupby('ORGANIZATION_TYPE')['TARGET'].mean().plot(kind='bar')"
   ]
  },
  {
   "cell_type": "markdown",
   "metadata": {
    "_cell_guid": "ffebf3ee-d9d1-4328-a508-5bf16f835c5f",
    "_uuid": "2f0fdb4b-a0d5-432d-ba4f-dc563fead42e"
   },
   "source": [
    "# Insights:\n",
    "\n",
    "- This clearly provides insights about which Organisation_type customers are more in loan defaulters list\n"
   ]
  },
  {
   "cell_type": "markdown",
   "metadata": {
    "_cell_guid": "76a883bf-5187-4fdf-a3da-2853f05113b2",
    "_uuid": "65f08e6e-abdc-4219-9104-37a05c84f7e9"
   },
   "source": [
    "# Correlation matrix"
   ]
  },
  {
   "cell_type": "code",
   "execution_count": null,
   "metadata": {
    "_cell_guid": "c5c3e8dd-2d0c-4146-859b-811eff579bca",
    "_uuid": "9db57031-3333-44c7-b243-731c050f24ad"
   },
   "outputs": [],
   "source": [
    "# considering index element form 61 since 60 numeric variables themselves(same variable has high correlation) equals to 1\n",
    "data.corr().abs().unstack().sort_values(ascending= False)[61:82]"
   ]
  },
  {
   "cell_type": "markdown",
   "metadata": {},
   "source": [
    "# Insights from Correlation table:\n",
    "\n",
    "- DAYS_EMPLOYED                FLAG_EMP_PHONE                 0.999755\n",
    "- FLAG_EMP_PHONE               DAYS_EMPLOYED                  0.999755\n",
    "- OBS_60_CNT_SOCIAL_CIRCLE     OBS_30_CNT_SOCIAL_CIRCLE       0.998490\n",
    "- OBS_30_CNT_SOCIAL_CIRCLE     OBS_60_CNT_SOCIAL_CIRCLE       0.998490\n",
    "- AMT_GOODS_PRICE              AMT_CREDIT                     0.986968\n",
    "- AMT_CREDIT                   AMT_GOODS_PRICE                0.986968\n",
    "- REGION_RATING_CLIENT         REGION_RATING_CLIENT_W_CITY    0.950842\n",
    "- REGION_RATING_CLIENT_W_CITY  REGION_RATING_CLIENT           0.950842\n",
    "- CNT_FAM_MEMBERS              CNT_CHILDREN                   0.879161\n",
    "- CNT_CHILDREN                 CNT_FAM_MEMBERS                0.879161\n",
    "- LIVE_REGION_NOT_WORK_REGION  REG_REGION_NOT_WORK_REGION     0.860627\n",
    "- REG_REGION_NOT_WORK_REGION   LIVE_REGION_NOT_WORK_REGION    0.860627\n",
    "- DEF_30_CNT_SOCIAL_CIRCLE     DEF_60_CNT_SOCIAL_CIRCLE       0.860517\n",
    "- DEF_60_CNT_SOCIAL_CIRCLE     DEF_30_CNT_SOCIAL_CIRCLE       0.860517\n",
    "- LIVE_CITY_NOT_WORK_CITY      REG_CITY_NOT_WORK_CITY         0.825575\n",
    "- REG_CITY_NOT_WORK_CITY       LIVE_CITY_NOT_WORK_CITY        0.825575\n",
    "- AMT_ANNUITY                  AMT_GOODS_PRICE                0.775109\n",
    "- AMT_GOODS_PRICE              AMT_ANNUITY                    0.775109\n",
    "- AMT_CREDIT                   AMT_ANNUITY                    0.770138\n",
    "- AMT_ANNUITY                  AMT_CREDIT                     0.770138\n",
    "- FLAG_EMP_PHONE               DAYS_BIRTH                     0.619888\n",
    "- DAYS_BIRTH                   FLAG_EMP_PHONE                 0.619888\n",
    "- DAYS_EMPLOYED                DAYS_BIRTH                     0.615864\n",
    "- DAYS_BIRTH                   DAYS_EMPLOYED                  0.615864\n",
    "- FLAG_EMP_PHONE               FLAG_DOCUMENT_6                0.597732\n"
   ]
  },
  {
   "cell_type": "markdown",
   "metadata": {
    "_cell_guid": "624a2d7a-41be-4be1-ba4f-dbb289deef38",
    "_uuid": "2e400a28-1d54-454b-97fc-fbb27ec4e342"
   },
   "source": [
    "# Visualisation for the high correlated varibales"
   ]
  },
  {
   "cell_type": "code",
   "execution_count": null,
   "metadata": {
    "_cell_guid": "047f9246-d258-4f7e-88b6-86e8797898e1",
    "_uuid": "57e2b619-1c3a-4fd4-bc7e-386152cb7618"
   },
   "outputs": [],
   "source": [
    "# Top 1 Correlated variables\n",
    "\n",
    "data.plot.scatter(x='OBS_30_CNT_SOCIAL_CIRCLE',y='OBS_60_CNT_SOCIAL_CIRCLE')\n",
    "plt.show()"
   ]
  },
  {
   "cell_type": "code",
   "execution_count": null,
   "metadata": {
    "_cell_guid": "39d86d0b-2b68-4770-bf39-4f6951c545ea",
    "_uuid": "7dc43db1-2587-4e13-81af-b61e65dcf1ae"
   },
   "outputs": [],
   "source": [
    "# Top 2 Correlated variables\n",
    "\n",
    "data.plot.scatter(x='AMT_CREDIT',y='AMT_GOODS_PRICE')\n",
    "plt.show()"
   ]
  },
  {
   "cell_type": "markdown",
   "metadata": {
    "_cell_guid": "846169d5-a825-4aaa-ad47-97b2db5cf510",
    "_uuid": "8ad65831-683a-45fd-8e84-83f1dce986e1"
   },
   "source": [
    "# Insights:\n",
    "\n",
    "- As we could observe that As the AMT_CREDIT and AMT_GOODS_PRICE is linearly related this is quite obvious that when customer resaches bank for loan amount, the bank will decide the amount to give based on the cutsomer history\n",
    "-"
   ]
  },
  {
   "cell_type": "code",
   "execution_count": null,
   "metadata": {
    "_cell_guid": "764cfc8a-c6f1-4171-a3cf-bc5ff5be9b46",
    "_uuid": "bb04216d-2a7c-4801-93ae-0cbb62581fc9"
   },
   "outputs": [],
   "source": [
    "# Top 3 Correlated variables\n",
    "\n",
    "data.plot.scatter(x='REGION_RATING_CLIENT_W_CITY',y='REGION_RATING_CLIENT')\n",
    "plt.show()"
   ]
  },
  {
   "cell_type": "code",
   "execution_count": null,
   "metadata": {
    "_cell_guid": "40830ec6-d756-4cd0-be26-0e850e50b4b3",
    "_uuid": "2b488ae3-7be0-408d-b1c0-c02190a4a092"
   },
   "outputs": [],
   "source": [
    "# Top 4 Correlated variables\n",
    "\n",
    "data.plot.scatter(x='CNT_FAM_MEMBERS',y='CNT_CHILDREN')\n",
    "plt.show()"
   ]
  },
  {
   "cell_type": "code",
   "execution_count": null,
   "metadata": {
    "_cell_guid": "00173df2-b448-4f3c-862f-ac4f0347c91c",
    "_uuid": "5d5964fa-ec0c-4ea6-bbb9-e92a1bacd337"
   },
   "outputs": [],
   "source": [
    "# Top 5 Correlated variables\n",
    "data.plot.scatter(x='LIVE_REGION_NOT_WORK_REGION',y='REG_REGION_NOT_WORK_REGION')\n",
    "plt.show()"
   ]
  },
  {
   "cell_type": "markdown",
   "metadata": {},
   "source": [
    "# Insights:\n",
    "\n",
    "- `LIVE_REGION_NOT_WORK_REGION` and `REG_REGION_NOT_WORK_REGION` are highly correlated.\n",
    "- If the value of one categorical column is 0 the other will be 1"
   ]
  },
  {
   "cell_type": "code",
   "execution_count": null,
   "metadata": {
    "_cell_guid": "c5cfe7a3-8de8-4b71-9c1d-56cb298b5a39",
    "_uuid": "fcd4c0b8-8c06-4a3d-a6af-f324efa699ae"
   },
   "outputs": [],
   "source": [
    "# Top 6 Correlated variables\n",
    "data.plot.scatter(x='DEF_60_CNT_SOCIAL_CIRCLE',y='DEF_30_CNT_SOCIAL_CIRCLE')\n",
    "plt.show()"
   ]
  },
  {
   "cell_type": "code",
   "execution_count": null,
   "metadata": {
    "_cell_guid": "ac9d4490-7fbd-4e9b-aae9-fd9d2165dcad",
    "_uuid": "e79231e5-bbaf-4be3-a9d3-d89e8a885d0b"
   },
   "outputs": [],
   "source": [
    "   # Top 7 Correlated variables\n",
    "\n",
    "data.plot.scatter(x='REG_CITY_NOT_WORK_CITY',y='LIVE_CITY_NOT_WORK_CITY')\n",
    "plt.show()"
   ]
  },
  {
   "cell_type": "code",
   "execution_count": null,
   "metadata": {
    "_cell_guid": "340cfb19-7330-4be2-bc89-113982cd37d7",
    "_uuid": "269868d6-9d07-4e02-81d9-43610d768da5"
   },
   "outputs": [],
   "source": [
    "# Top 8 Correlated variables\n",
    "\n",
    "data.plot.scatter(x='AMT_GOODS_PRICE',y='AMT_ANNUITY')\n",
    "plt.show()"
   ]
  },
  {
   "cell_type": "code",
   "execution_count": null,
   "metadata": {
    "_cell_guid": "7c362bea-e242-4cca-858e-360dd028ea33",
    "_uuid": "de133a1b-dd38-4fb3-a7d0-cd270c6a26ec"
   },
   "outputs": [],
   "source": [
    "# Top 9 Correlated variables\n",
    "\n",
    "data.plot.scatter(x='AMT_CREDIT',y='AMT_ANNUITY')\n",
    "plt.show()"
   ]
  },
  {
   "cell_type": "code",
   "execution_count": null,
   "metadata": {
    "_cell_guid": "0e61ef77-d6d3-445d-b24b-ded36573b899",
    "_uuid": "7e0f5bc2-a7d7-4b2f-a090-c020b793b99b"
   },
   "outputs": [],
   "source": [
    "# Top 10 Correlated variables\n",
    "\n",
    "data.plot.scatter(x='DAYS_BIRTH',y='FLAG_EMP_PHONE')\n",
    "plt.show()"
   ]
  },
  {
   "cell_type": "markdown",
   "metadata": {
    "_cell_guid": "09a97ded-2683-4c95-99ae-9eb5b8063433",
    "_uuid": "df9df80a-bdd1-46aa-9989-393bd9dd819d"
   },
   "source": [
    "####   End of Correlation Analysyis"
   ]
  },
  {
   "cell_type": "markdown",
   "metadata": {
    "_cell_guid": "6a953b9d-3dcd-4014-9c93-646de8507ffc",
    "_uuid": "bd8a063c-89ea-42e0-96ab-afd43e26150d"
   },
   "source": [
    "### Lets analyse 'previous_application.csv' contains information about the client’s previous loan data. It contains the data whether the previous application had been Approved, Cancelled, Refused or Unused offer."
   ]
  },
  {
   "cell_type": "markdown",
   "metadata": {},
   "source": [
    "#### Analysing this data helps in understanding the banks behavior in the previous loans"
   ]
  },
  {
   "cell_type": "markdown",
   "metadata": {
    "_cell_guid": "4fcf734b-b822-4abd-8f64-f092479d758e",
    "_uuid": "146f32a1-05ae-40e5-ae10-4a2fdcd51b82"
   },
   "source": [
    "# Previous Application Dataset"
   ]
  },
  {
   "cell_type": "code",
   "execution_count": null,
   "metadata": {
    "_cell_guid": "02280950-9f96-47e6-b5b9-a3f0ef541606",
    "_uuid": "db1c71e6-0989-4475-8b63-c0d839065e45"
   },
   "outputs": [],
   "source": [
    "import pandas as pd"
   ]
  },
  {
   "cell_type": "code",
   "execution_count": null,
   "metadata": {
    "_cell_guid": "c237aea5-8aab-4420-916c-4d8029b4a293",
    "_uuid": "60bf5d3c-af33-4066-a2a5-c5878d4a54d5"
   },
   "outputs": [],
   "source": [
    "#Reading the previous application dataset\n",
    "\n",
    "prev_appl=pd.read_csv('previous_application.csv')\n",
    "prev_appl"
   ]
  },
  {
   "cell_type": "code",
   "execution_count": null,
   "metadata": {
    "_cell_guid": "ae4d0487-c571-4637-811c-2af29b78266e",
    "_uuid": "600cfcd3-ab96-4b6f-b13f-9bf39977f949"
   },
   "outputs": [],
   "source": [
    "prev_appl.head()"
   ]
  },
  {
   "cell_type": "markdown",
   "metadata": {},
   "source": [
    "# Data Description"
   ]
  },
  {
   "cell_type": "code",
   "execution_count": null,
   "metadata": {
    "_cell_guid": "f3f1a091-f364-47b3-9483-0ed4bf4286e3",
    "_uuid": "16453bb4-1ba0-4d6a-b76f-3e245319076a"
   },
   "outputs": [],
   "source": [
    "#shape of the data\n",
    "prev_appl.shape"
   ]
  },
  {
   "cell_type": "code",
   "execution_count": null,
   "metadata": {
    "_cell_guid": "fd0bcdce-69f7-4273-bbc4-6d4aaf68ffcb",
    "_uuid": "32081255-a5ce-4044-b365-f42e27016d61"
   },
   "outputs": [],
   "source": [
    "prev_appl.info()"
   ]
  },
  {
   "cell_type": "code",
   "execution_count": null,
   "metadata": {
    "_cell_guid": "fdacde43-1f2a-475b-b4fb-a012497d68c1",
    "_uuid": "f1da2c5e-856b-4574-a45e-c6f60d8cb6e4"
   },
   "outputs": [],
   "source": [
    "#statistical description of the data\n",
    "prev_appl.describe()"
   ]
  },
  {
   "cell_type": "markdown",
   "metadata": {},
   "source": [
    "# Identification and Treatment of Null values"
   ]
  },
  {
   "cell_type": "code",
   "execution_count": null,
   "metadata": {
    "_cell_guid": "c9ce3d4a-53ff-41f4-bf95-91c40cb2cb8b",
    "_uuid": "aa056111-5a5f-4a30-8c7a-abb7f50cf036"
   },
   "outputs": [],
   "source": [
    "percentageofnullvalues=((prev_appl.isnull().sum()/prev_appl.shape[0])*100).round(2)\n",
    "percentageofnullvalues"
   ]
  },
  {
   "cell_type": "markdown",
   "metadata": {},
   "source": [
    "# Lets consider only columns having less than 20 percent of null values in it"
   ]
  },
  {
   "cell_type": "code",
   "execution_count": null,
   "metadata": {
    "_cell_guid": "0d0c4d62-272a-4498-ad72-64609f989456",
    "_uuid": "c85856ca-7717-4341-906e-1476ab6ce7af"
   },
   "outputs": [],
   "source": [
    "# Lets consider only columns having less than 20 percent of null values in it\n",
    "\n",
    "prev_appl=prev_appl[percentageofnullvalues[percentageofnullvalues<20].index]\n",
    "prev_appl"
   ]
  },
  {
   "cell_type": "code",
   "execution_count": null,
   "metadata": {
    "_cell_guid": "943f0ec7-20d9-4f37-b655-469f4f3f2c4f",
    "_uuid": "60fc529a-b617-4885-8b0c-9942bcaacfa9"
   },
   "outputs": [],
   "source": [
    "# Verifying the column  count after removal of columns in the previous step \n",
    "prev_appl.shape"
   ]
  },
  {
   "cell_type": "code",
   "execution_count": null,
   "metadata": {
    "_cell_guid": "47d29e4a-29a7-4109-8f59-b5a92fb04c55",
    "_uuid": "b2943cec-7bf2-4fd5-bc22-cddae21d33a9"
   },
   "outputs": [],
   "source": [
    "# Previous application top 5 rows\n",
    "\n",
    "prev_appl.head()"
   ]
  },
  {
   "cell_type": "code",
   "execution_count": null,
   "metadata": {
    "_cell_guid": "6c5c9e14-c9d1-4123-a2c7-326d5b468d22",
    "_uuid": "7fe22bf3-4b1b-4734-9e93-cb7563f58fbe"
   },
   "outputs": [],
   "source": [
    "# combining the 'previous application' dataframe  with 'application'  dataframe based on the Current application id (SK_ID_CURR)\n",
    "\n",
    "merged_df=pd.merge(data,prev_appl,how='left',on='SK_ID_CURR')\n",
    "merged_df"
   ]
  },
  {
   "cell_type": "code",
   "execution_count": null,
   "metadata": {
    "_cell_guid": "aac019eb-1a78-4b6d-973f-120dcd319360",
    "_uuid": "4f5e2a31-e7d9-4a3a-b052-eae9c0f5563c"
   },
   "outputs": [],
   "source": [
    "# shape of the combined dataframe\n",
    "merged_df.shape"
   ]
  },
  {
   "cell_type": "markdown",
   "metadata": {},
   "source": [
    "# NAME_CONTRACT_STATUS Analysis"
   ]
  },
  {
   "cell_type": "code",
   "execution_count": null,
   "metadata": {
    "_cell_guid": "be39533c-f782-4e9b-a9b7-a06562985b14",
    "_uuid": "6ddfed79-237c-4919-8d4d-992d5f658bbb"
   },
   "outputs": [],
   "source": [
    "merged_df.NAME_CONTRACT_STATUS.value_counts()"
   ]
  },
  {
   "cell_type": "code",
   "execution_count": null,
   "metadata": {
    "_cell_guid": "0150ee7e-11c1-4f50-96ed-009520d58498",
    "_uuid": "4a3254d5-3c13-4287-8160-02b6c2ff7f9d"
   },
   "outputs": [],
   "source": [
    "# merged_df0 represents target==0 which means customers belonging to non-defaulters\n",
    "\n",
    "# merged_df1 represents target ==1 which means customers belonging to defaulters\n",
    "\n",
    "merged_df0=merged_df[merged_df['TARGET']==0]\n",
    "merged_df1=merged_df[merged_df['TARGET']==1]"
   ]
  },
  {
   "cell_type": "markdown",
   "metadata": {},
   "source": [
    "# univariate and Bivariate Analysis"
   ]
  },
  {
   "cell_type": "code",
   "execution_count": null,
   "metadata": {
    "_cell_guid": "45916abd-6b59-4e4c-b9d7-d8fd1f290795",
    "_uuid": "0c596039-d749-4ae9-bdc5-ccb70d4cddcd"
   },
   "outputs": [],
   "source": [
    "# Analysyis on NAME_CONTRACT_STATUS versus for non-defaulter and defaulter\n",
    "\n",
    "plt.figure(figsize=(20,8))\n",
    "plt.subplot(1,2,1)\n",
    "plt.title('Distribution of Non-Defaulter Category\\n'+' V/S '+'NAME_CONTRACT_STATUS',fontsize=20)\n",
    "sns.countplot(x='TARGET',hue='NAME_CONTRACT_STATUS',data=merged_df0)\n",
    "plt.subplot(1,2,2)\n",
    "plt.title('Distribution of Defaulter Category\\n'+' V/S '+'NAME_CONTRACT_STATUS',fontsize=20)\n",
    "sns.countplot(x='TARGET',hue='NAME_CONTRACT_STATUS',data=merged_df1)\n",
    "plt.show()"
   ]
  },
  {
   "cell_type": "markdown",
   "metadata": {},
   "source": [
    "# Insights:\n",
    "\n",
    "- we could see some good insights after combining both the dataframes that almost 65000(plot2) loans has been approved by the bank and which are falling under Default category, which is loss for the bank.\n",
    "- Plot1 says about non-defaulter category where we could see the company has refused almost 200000 loans, but the customer is capable of repaying the loans,This should be avoided to inccur profits to the bank\n"
   ]
  },
  {
   "cell_type": "code",
   "execution_count": null,
   "metadata": {
    "_cell_guid": "1f5036b0-13bf-4115-9d93-31a2300357b7",
    "_uuid": "a5a171bd-8bdc-4420-816f-7d7f47e71105"
   },
   "outputs": [],
   "source": [
    "#Analysis on NAME_EDUCATION_TYPE V/S NAME_CONTRACT_STATUS for non-defaulter and defaulter\n",
    "\n",
    "plt.figure(figsize=(18,5))\n",
    "plt.subplot(1,2,1)\n",
    "plt.title('Distribution of Non-Defaulter Category on\\n'+'NAME_EDUCATION_TYPE V/S NAME_CONTRACT_STATUS',fontsize=15)\n",
    "sns.countplot(x='NAME_CONTRACT_STATUS',hue='NAME_EDUCATION_TYPE',data=merged_df0)\n",
    "plt.xticks(rotation=90)\n",
    "plt.subplot(1,2,2)\n",
    "plt.title('Distribution of Default Category on\\n'+'NAME_EDUCATION_TYPE V/S NAME_CONTRACT_STATUS',fontsize=15)\n",
    "sns.countplot(x='NAME_CONTRACT_STATUS',hue='NAME_EDUCATION_TYPE',data=merged_df1)\n",
    "plt.xticks(rotation=90)\n",
    "plt.show()"
   ]
  },
  {
   "cell_type": "markdown",
   "metadata": {},
   "source": [
    "# Insights:\n",
    "\n",
    "- Bank should consider `Secondary/Secondary special` category since the customers are more from this category in both defaulter and non-default list.So other factors(varibales) should be considered before approving the loan\n"
   ]
  },
  {
   "cell_type": "code",
   "execution_count": null,
   "metadata": {
    "_cell_guid": "b075d9f3-4643-4e0a-bcbe-0759f95ac4f0",
    "_uuid": "e84889ae-1e4e-4e41-be31-8c001c87a42a"
   },
   "outputs": [],
   "source": [
    "# Analysyis on NAME_FAMILY_STATUS V/S NAME_CONTRACT_STATUS for non-defaulter and defaulter\n",
    "\n",
    "plt.figure(figsize=(18,5))\n",
    "plt.subplot(1,2,1)\n",
    "plt.title('Distribution of Non-Defaulter Category on\\n'+'NAME_FAMILY_STATUS V/S NAME_CONTRACT_STATUS',fontsize=15)\n",
    "sns.countplot(x='NAME_CONTRACT_STATUS',hue='NAME_FAMILY_STATUS',data=merged_df0)\n",
    "plt.xticks(rotation=90)\n",
    "plt.subplot(1,2,2)\n",
    "plt.title('Distribution of Defaulter Category on\\n'+'NAME_FAMILY_STATUS V/S NAME_CONTRACT_STATUS',fontsize=15)\n",
    "sns.countplot(x='NAME_CONTRACT_STATUS',hue='NAME_FAMILY_STATUS',data=merged_df1)\n",
    "plt.xticks(rotation=90)\n",
    "plt.show()"
   ]
  },
  {
   "cell_type": "markdown",
   "metadata": {},
   "source": [
    "# Insights:\n",
    "\n",
    "- From plot1 we can understand that some of the loans has been refused across different categories, But those category of people are capable of repaying the loan\n",
    "- From plot2 we can say tht `Married` category has high count in refused and cancelled loans when compared with other categories"
   ]
  },
  {
   "cell_type": "code",
   "execution_count": null,
   "metadata": {
    "_cell_guid": "48d16fa4-76df-4f0e-bb17-f87d455ab541",
    "_uuid": "b5fe7916-2a64-4d35-b8d4-6e65d3097012"
   },
   "outputs": [],
   "source": [
    "# Analysyis on NAME_HOUSING_TYPE V/S NAME_CONTRACT_STATUS for non-defaulter and defaulter\n",
    "\n",
    "plt.figure(figsize=(18,5))\n",
    "plt.subplot(1,2,1)\n",
    "plt.title('Distribution of Non-Defaulter Category on\\n'+'NAME_HOUSING_TYPE V/S NAME_CONTRACT_STATUS',fontsize=15)\n",
    "sns.countplot(x='NAME_CONTRACT_STATUS',hue='NAME_HOUSING_TYPE',data=merged_df0)\n",
    "plt.xticks(rotation=90)\n",
    "plt.subplot(1,2,2)\n",
    "plt.title('Distribution of Defaulter Category on\\n'+'NAME_HOUSING_TYPE V/S NAME_CONTRACT_STATUS',fontsize=15)\n",
    "sns.countplot(x='NAME_CONTRACT_STATUS',hue='NAME_HOUSING_TYPE',data=merged_df1)\n",
    "plt.xticks(rotation=90)\n",
    "plt.show()"
   ]
  },
  {
   "cell_type": "markdown",
   "metadata": {},
   "source": [
    "# Insights:\n",
    "\n",
    "- The bank has refused some of the loans across different categories but actually they are capable of repaying. So bank may take another steps by reducing the loan amount and procing the loan to such customers to incur profits.\n",
    "- Plot 2 shows high Loan approvals on `House/Apartment` category but the customers are falling under default category, Which results in loss for bank. So bank should consider that having`House/Apartments` doesn't really imply that the customer will be able to repay loan on time."
   ]
  },
  {
   "cell_type": "markdown",
   "metadata": {},
   "source": [
    "# Summary of Analysis:\n",
    "\n",
    "## Bank should concentrate on following categories while providing loans:\n",
    "\n",
    "- Banks can take risk in providing loans to >47 in generating profits. Since from our analysis we found that higher age group people are less in number under defaulters, When compared with other categories of age.\n",
    "- Lesser the education of Client, High chances of falling in Defaulter's list. This can be considered to gain benefits.\n",
    "- Employees staying in their current jobs for longer period of time, Chances of falling under defaulter is less, This should be considered while providing loan.\n",
    "- By analysing the data we observed that clients belonging to Apartment/House are falling under defaulters which needs to be considered to incur profits.\n",
    "- Bank should reduce their focus on ‘working’ category where we say huge percentage of people are falling under defaulters.\n",
    "- Pensioner category are good for benefitting profits"
   ]
  }
 ],
 "metadata": {
  "kernelspec": {
   "display_name": "Python 3",
   "language": "python",
   "name": "python3"
  },
  "language_info": {
   "codemirror_mode": {
    "name": "ipython",
    "version": 3
   },
   "file_extension": ".py",
   "mimetype": "text/x-python",
   "name": "python",
   "nbconvert_exporter": "python",
   "pygments_lexer": "ipython3",
   "version": "3.8.5"
  }
 },
 "nbformat": 4,
 "nbformat_minor": 4
}
